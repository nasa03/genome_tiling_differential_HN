{
 "cells": [
  {
   "cell_type": "markdown",
   "id": "0e3c04ec-3b4b-4c49-ad99-2975434e8526",
   "metadata": {},
   "source": [
    "# Put library together"
   ]
  },
  {
   "cell_type": "code",
   "execution_count": 1,
   "id": "b0f109a9-2224-4ad6-91f7-6ced36a7249a",
   "metadata": {},
   "outputs": [],
   "source": [
    "import pandas as pd\n",
    "import numpy as np\n",
    "import os\n",
    "import gc\n",
    "\n",
    "import seaborn as sns\n",
    "import matplotlib.pyplot as plt\n",
    "\n",
    "import random\n",
    "\n",
    "os.chdir(\"/home/elise/projects/whole-genome-tiling-predictions/\")\n"
   ]
  },
  {
   "cell_type": "code",
   "execution_count": 3,
   "id": "d5275f71-a47c-4eb2-bd10-bd3311a7d9cb",
   "metadata": {},
   "outputs": [],
   "source": [
    "\n",
    "# human_diff_seqs = pd.read_csv()\n",
    "# mouse_diff_seqs = pd.read_csv()\n",
    "\n",
    "human_high_seqs = ( pd.read_csv(\"scores/PB-PY-0011.hg38.scores.high.txt\",\n",
    "                               sep='\\t')\n",
    "                    .rename(columns{'prediction':'N2a_pred')\n",
    "\n",
    "KI_seqs_high = pd.read_csv(\"library/KI_top_filt.txt\",\n",
    "                          sep='\\t')\n",
    "KI_seqs_low = pd.read_csv(\"library/KI_bot_filt.txt\",\n",
    "                         sep='\\t')\n",
    "KI_seqs_diff = pd.read_csv(\"library/KI_diff_filt.txt\",\n",
    "                          sep='\\t')\n",
    "\n",
    "Angelou_seqs = pd.read_csv(\"library/angelou_annotations.tsv\",\n",
    "                          sep='\\t')\n",
    "\n"
   ]
  },
  {
   "cell_type": "code",
   "execution_count": null,
   "id": "2e440201-eda0-4dc0-9cc6-28169e5b4be8",
   "metadata": {},
   "outputs": [],
   "source": []
  }
 ],
 "metadata": {
  "kernelspec": {
   "display_name": "Python 3 (ipykernel)",
   "language": "python",
   "name": "python3"
  },
  "language_info": {
   "codemirror_mode": {
    "name": "ipython",
    "version": 3
   },
   "file_extension": ".py",
   "mimetype": "text/x-python",
   "name": "python",
   "nbconvert_exporter": "python",
   "pygments_lexer": "ipython3",
   "version": "3.8.12"
  }
 },
 "nbformat": 4,
 "nbformat_minor": 5
}
