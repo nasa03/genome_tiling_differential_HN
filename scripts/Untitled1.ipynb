{
 "cells": [
  {
   "cell_type": "code",
   "execution_count": 1,
   "id": "80037e26-2940-44fd-a293-f6bba82918d8",
   "metadata": {},
   "outputs": [],
   "source": [
    "import pandas as pd\n",
    "import numpy as np\n",
    "import os\n",
    "import gc\n",
    "\n",
    "os.chdir(\"/home/elise/projects/whole-genome-tiling-predictions/\")"
   ]
  },
  {
   "cell_type": "code",
   "execution_count": 7,
   "id": "a68805fd-d03a-4dab-9843-cd29bfa50b2e",
   "metadata": {},
   "outputs": [
    {
     "name": "stdout",
     "output_type": "stream",
     "text": [
      "reading files...\n",
      "<bound method NDFrame.head of           prediction                     chr    pos\n",
      "0          -0.007660                    chr1  10000\n",
      "1           0.066999                    chr1  10050\n",
      "2          -0.068959                    chr1  10100\n",
      "3          -0.173480                    chr1  10150\n",
      "4          -0.020042                    chr1  10200\n",
      "...              ...                     ...    ...\n",
      "64334862   -0.827126  chrY_KI270740v1_random  36850\n",
      "64334863   -0.996833  chrY_KI270740v1_random  36900\n",
      "64334864   -0.980638  chrY_KI270740v1_random  36950\n",
      "64334865   -0.664841  chrY_KI270740v1_random  37000\n",
      "64334866   -0.074509  chrY_KI270740v1_random  37050\n",
      "\n",
      "[64334867 rows x 3 columns]>\n",
      "<bound method NDFrame.head of           prediction                   chr      pos\n",
      "0          -4.692825                  chr1  3000000\n",
      "1          -5.157895                  chr1  3000050\n",
      "2          -4.388600                  chr1  3000100\n",
      "3          -0.664615                  chr1  3000150\n",
      "4          -0.752823                  chr1  3000200\n",
      "...              ...                   ...      ...\n",
      "53645922   -0.984944  chrY_JH584303_random   157700\n",
      "53645923   -0.666968  chrY_JH584303_random   157750\n",
      "53645924   -0.138928  chrY_JH584303_random   157800\n",
      "53645925   -0.892153  chrY_JH584303_random   157850\n",
      "53645926   -0.624606  chrY_JH584303_random   157900\n",
      "\n",
      "[53645927 rows x 3 columns]>\n",
      "<bound method NDFrame.head of           prediction                     chr    pos\n",
      "0          -0.100291                    chr1  10000\n",
      "1          -0.020488                    chr1  10050\n",
      "2          -0.032757                    chr1  10100\n",
      "3          -0.073248                    chr1  10150\n",
      "4          -0.040499                    chr1  10200\n",
      "...              ...                     ...    ...\n",
      "64334862   -1.075787  chrY_KI270740v1_random  36850\n",
      "64334863   -1.064738  chrY_KI270740v1_random  36900\n",
      "64334864   -0.576563  chrY_KI270740v1_random  36950\n",
      "64334865   -0.452260  chrY_KI270740v1_random  37000\n",
      "64334866   -0.248202  chrY_KI270740v1_random  37050\n",
      "\n",
      "[64334867 rows x 3 columns]>\n",
      "<bound method NDFrame.head of           prediction                   chr      pos\n",
      "0          -1.805456                  chr1  3000000\n",
      "1          -2.571884                  chr1  3000050\n",
      "2          -1.964231                  chr1  3000100\n",
      "3          -0.372115                  chr1  3000150\n",
      "4          -0.476924                  chr1  3000200\n",
      "...              ...                   ...      ...\n",
      "53180474   -0.433901  chrY_JH584303_random   157700\n",
      "53180475   -0.260620  chrY_JH584303_random   157750\n",
      "53180476    0.300503  chrY_JH584303_random   157800\n",
      "53180477   -1.393579  chrY_JH584303_random   157850\n",
      "53180478   -0.462048  chrY_JH584303_random   157900\n",
      "\n",
      "[53180479 rows x 3 columns]>\n"
     ]
    }
   ],
   "source": [
    "\n",
    "print(\"reading files...\")\n",
    "\n",
    "N2a_human = pd.read_csv(\"scores/PB-PY-0011.hg38.scores.min.txt\",\n",
    "                       sep=' ')\n",
    "print(N2a_human.head)\n",
    "\n",
    "\n",
    "N2a_mouse = pd.read_csv(\"scores/PB-PY-0011.mm10.scores.min.txt\",\n",
    "                       sep=' ')\n",
    "print(N2a_mouse.head)\n",
    "\n",
    "\n",
    "HepG2_human = pd.read_csv(\"scores/PB-PY-0012.hg38.scores.min.txt\",\n",
    "                       sep=' ')\n",
    "print(HepG2_human.head)\n",
    "\n",
    "\n",
    "HepG2_mouse = pd.read_csv(\"scores/PB-PY-0012.mm10.scores.min.txt\",\n",
    "                       sep=' ')\n",
    "print(HepG2_mouse.head)"
   ]
  },
  {
   "cell_type": "code",
   "execution_count": 9,
   "id": "9aa088fe-68e1-4d5a-8729-00d1ab4720e3",
   "metadata": {},
   "outputs": [
    {
     "name": "stdout",
     "output_type": "stream",
     "text": [
      "(64334867, 3)\n",
      "<bound method NDFrame.head of           prediction                   chr      pos\n",
      "0          -4.692825                  chr1  3000000\n",
      "1          -5.157895                  chr1  3000050\n",
      "2          -4.388600                  chr1  3000100\n",
      "3          -0.664615                  chr1  3000150\n",
      "4          -0.752823                  chr1  3000200\n",
      "...              ...                   ...      ...\n",
      "53645922   -0.984944  chrY_JH584303_random   157700\n",
      "53645923   -0.666968  chrY_JH584303_random   157750\n",
      "53645924   -0.138928  chrY_JH584303_random   157800\n",
      "53645925   -0.892153  chrY_JH584303_random   157850\n",
      "53645926   -0.624606  chrY_JH584303_random   157900\n",
      "\n",
      "[53645927 rows x 3 columns]>\n"
     ]
    }
   ],
   "source": [
    "print(N2a_human.shape)\n",
    "print(N2a_mouse.head)"
   ]
  },
  {
   "cell_type": "code",
   "execution_count": 14,
   "id": "6810481f-dfbb-4424-93bb-4fd2ed6b244f",
   "metadata": {},
   "outputs": [
    {
     "ename": "AttributeError",
     "evalue": "'Series' object has no attribute 'to_numeric'",
     "output_type": "error",
     "traceback": [
      "\u001b[0;31m---------------------------------------------------------------------------\u001b[0m",
      "\u001b[0;31mAttributeError\u001b[0m                            Traceback (most recent call last)",
      "\u001b[0;32m/tmp/ipykernel_1081039/333766645.py\u001b[0m in \u001b[0;36m<module>\u001b[0;34m\u001b[0m\n\u001b[1;32m      3\u001b[0m                       .append( N2a_mouse\n\u001b[1;32m      4\u001b[0m                                 .assign(model='N2a',spec='mouse') ) )\n\u001b[0;32m----> 5\u001b[0;31m \u001b[0mN2a_all\u001b[0m\u001b[0;34m[\u001b[0m\u001b[0;34m'prediction'\u001b[0m\u001b[0;34m]\u001b[0m \u001b[0;34m=\u001b[0m \u001b[0mN2a_all\u001b[0m\u001b[0;34m[\u001b[0m\u001b[0;34m'prediction'\u001b[0m\u001b[0;34m]\u001b[0m\u001b[0;34m.\u001b[0m\u001b[0mto_numeric\u001b[0m\u001b[0;34m(\u001b[0m\u001b[0;34m)\u001b[0m\u001b[0;34m\u001b[0m\u001b[0;34m\u001b[0m\u001b[0m\n\u001b[0m\u001b[1;32m      6\u001b[0m \u001b[0;34m\u001b[0m\u001b[0m\n\u001b[1;32m      7\u001b[0m HepG2_all = ( HepG2_human\n",
      "\u001b[0;32m~/miniconda3/envs/pythia/lib/python3.8/site-packages/pandas/core/generic.py\u001b[0m in \u001b[0;36m__getattr__\u001b[0;34m(self, name)\u001b[0m\n\u001b[1;32m   5460\u001b[0m             \u001b[0;32mif\u001b[0m \u001b[0mself\u001b[0m\u001b[0;34m.\u001b[0m\u001b[0m_info_axis\u001b[0m\u001b[0;34m.\u001b[0m\u001b[0m_can_hold_identifiers_and_holds_name\u001b[0m\u001b[0;34m(\u001b[0m\u001b[0mname\u001b[0m\u001b[0;34m)\u001b[0m\u001b[0;34m:\u001b[0m\u001b[0;34m\u001b[0m\u001b[0;34m\u001b[0m\u001b[0m\n\u001b[1;32m   5461\u001b[0m                 \u001b[0;32mreturn\u001b[0m \u001b[0mself\u001b[0m\u001b[0;34m[\u001b[0m\u001b[0mname\u001b[0m\u001b[0;34m]\u001b[0m\u001b[0;34m\u001b[0m\u001b[0;34m\u001b[0m\u001b[0m\n\u001b[0;32m-> 5462\u001b[0;31m             \u001b[0;32mreturn\u001b[0m \u001b[0mobject\u001b[0m\u001b[0;34m.\u001b[0m\u001b[0m__getattribute__\u001b[0m\u001b[0;34m(\u001b[0m\u001b[0mself\u001b[0m\u001b[0;34m,\u001b[0m \u001b[0mname\u001b[0m\u001b[0;34m)\u001b[0m\u001b[0;34m\u001b[0m\u001b[0;34m\u001b[0m\u001b[0m\n\u001b[0m\u001b[1;32m   5463\u001b[0m \u001b[0;34m\u001b[0m\u001b[0m\n\u001b[1;32m   5464\u001b[0m     \u001b[0;32mdef\u001b[0m \u001b[0m__setattr__\u001b[0m\u001b[0;34m(\u001b[0m\u001b[0mself\u001b[0m\u001b[0;34m,\u001b[0m \u001b[0mname\u001b[0m\u001b[0;34m:\u001b[0m \u001b[0mstr\u001b[0m\u001b[0;34m,\u001b[0m \u001b[0mvalue\u001b[0m\u001b[0;34m)\u001b[0m \u001b[0;34m->\u001b[0m \u001b[0;32mNone\u001b[0m\u001b[0;34m:\u001b[0m\u001b[0;34m\u001b[0m\u001b[0;34m\u001b[0m\u001b[0m\n",
      "\u001b[0;31mAttributeError\u001b[0m: 'Series' object has no attribute 'to_numeric'"
     ]
    }
   ],
   "source": [
    "N2a_all = ( N2a_human\n",
    "              .assign(model='N2a',spec='human')\n",
    "                      .append( N2a_mouse\n",
    "                                .assign(model='N2a',spec='mouse') ) )\n",
    "N2a_all['prediction'] = N2a_all['prediction'].to_numeric()\n",
    "\n",
    "HepG2_all = ( HepG2_human\n",
    "              .assign(model='HepG2',spec='human')\n",
    "                      .append( HepG2_mouse\n",
    "                                .assign(model='HepG2',spec='mouse') ) )\n",
    "HepG2_all['prediction'] = HepG2_all['prediction'].to_numeric()\n",
    "\n",
    "both_long = (N2a_all\n",
    "                .append(HepG2_all))\n",
    "                #.rename(columns={0:'pred_act',1:'chr',2:'pos'}))\n",
    "\n",
    "both_merged = (N2a_all\n",
    "                  .rename(columns={prediction:'N2a'})\n",
    "                  .filter(['N2a','chr','pos','spec'])\n",
    "                  .merge(HepG2_all\n",
    "                         .rename(columns={prediction:'HepG2'})\n",
    "                         .filter(['HepG2','chr','pos','spec',]),\n",
    "                                  on=('chr','pos','spec'))\n",
    "              .assign(diff='HepG2'-'N2a') )\n",
    "\n",
    "            "
   ]
  },
  {
   "cell_type": "code",
   "execution_count": null,
   "id": "29163b45-a8d5-4a87-a5c8-6597a728064f",
   "metadata": {},
   "outputs": [],
   "source": [
    "print(both_long.shape)\n",
    "print(both_merged.shape)\n",
    "print(both_merged.head)"
   ]
  },
  {
   "cell_type": "code",
   "execution_count": null,
   "id": "e19deee8-dad5-4874-b61a-867196167f99",
   "metadata": {},
   "outputs": [],
   "source": [
    "del N2a_all\n",
    "del HepG2_all\n",
    "\n",
    "gc.collect()"
   ]
  },
  {
   "cell_type": "code",
   "execution_count": 14,
   "id": "cb041c97-0848-47b3-a791-203f7ae7bce7",
   "metadata": {},
   "outputs": [
    {
     "ename": "NameError",
     "evalue": "name 'HepG2_human' is not defined",
     "output_type": "error",
     "traceback": [
      "\u001b[0;31m---------------------------------------------------------------------------\u001b[0m",
      "\u001b[0;31mNameError\u001b[0m                                 Traceback (most recent call last)",
      "\u001b[0;32m/tmp/ipykernel_1080903/1512711673.py\u001b[0m in \u001b[0;36m<module>\u001b[0;34m\u001b[0m\n\u001b[1;32m      1\u001b[0m \u001b[0;31m#del N2a_human\u001b[0m\u001b[0;34m\u001b[0m\u001b[0;34m\u001b[0m\u001b[0;34m\u001b[0m\u001b[0m\n\u001b[1;32m      2\u001b[0m \u001b[0;31m#del N2a_mouse\u001b[0m\u001b[0;34m\u001b[0m\u001b[0;34m\u001b[0m\u001b[0;34m\u001b[0m\u001b[0m\n\u001b[0;32m----> 3\u001b[0;31m \u001b[0;32mdel\u001b[0m \u001b[0mHepG2_human\u001b[0m\u001b[0;34m\u001b[0m\u001b[0;34m\u001b[0m\u001b[0m\n\u001b[0m\u001b[1;32m      4\u001b[0m \u001b[0;32mdel\u001b[0m \u001b[0mHepG2_mouse\u001b[0m\u001b[0;34m\u001b[0m\u001b[0;34m\u001b[0m\u001b[0m\n",
      "\u001b[0;31mNameError\u001b[0m: name 'HepG2_human' is not defined"
     ]
    }
   ],
   "source": [
    "#del N2a_human\n",
    "#del N2a_mouse\n",
    "del HepG2_human\n",
    "del HepG2_mouse"
   ]
  },
  {
   "cell_type": "code",
   "execution_count": 15,
   "id": "74a27d2d-4448-42d4-bc0a-b980cf063163",
   "metadata": {},
   "outputs": [
    {
     "name": "stdout",
     "output_type": "stream",
     "text": [
      "['In', 'Out', '_', '_13', '__', '___', '__builtin__', '__builtins__', '__doc__', '__loader__', '__name__', '__package__', '__spec__', '_dh', '_i', '_i1', '_i10', '_i11', '_i12', '_i13', '_i14', '_i15', '_i2', '_i3', '_i4', '_i5', '_i6', '_i7', '_i8', '_i9', '_ih', '_ii', '_iii', '_oh', 'exit', 'gc', 'get_ipython', 'np', 'os', 'pd', 'quit']\n"
     ]
    },
    {
     "data": {
      "text/plain": [
       "8"
      ]
     },
     "execution_count": 15,
     "metadata": {},
     "output_type": "execute_result"
    }
   ],
   "source": [
    "print(dir())\n",
    "gc.collect()"
   ]
  },
  {
   "cell_type": "code",
   "execution_count": null,
   "id": "19fc11b2-7c4a-4649-84bc-4890e6cea700",
   "metadata": {},
   "outputs": [],
   "source": []
  }
 ],
 "metadata": {
  "kernelspec": {
   "display_name": "Python 3 (ipykernel)",
   "language": "python",
   "name": "python3"
  },
  "language_info": {
   "codemirror_mode": {
    "name": "ipython",
    "version": 3
   },
   "file_extension": ".py",
   "mimetype": "text/x-python",
   "name": "python",
   "nbconvert_exporter": "python",
   "pygments_lexer": "ipython3",
   "version": "3.8.12"
  }
 },
 "nbformat": 4,
 "nbformat_minor": 5
}
