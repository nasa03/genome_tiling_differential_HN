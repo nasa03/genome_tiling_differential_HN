{
 "cells": [
  {
   "cell_type": "code",
   "execution_count": 1,
   "id": "80037e26-2940-44fd-a293-f6bba82918d8",
   "metadata": {},
   "outputs": [],
   "source": [
    "import pandas as pd\n",
    "import numpy as np\n",
    "import os\n",
    "import gc\n",
    "\n",
    "import seaborn as sns\n",
    "import matplotlib.pyplot as plt\n",
    "\n",
    "import random\n",
    "\n",
    "os.chdir(\"/home/elise/projects/whole-genome-tiling-predictions/\")"
   ]
  },
  {
   "cell_type": "code",
   "execution_count": 10,
   "id": "a68805fd-d03a-4dab-9843-cd29bfa50b2e",
   "metadata": {},
   "outputs": [
    {
     "name": "stdout",
     "output_type": "stream",
     "text": [
      "reading files...\n",
      "<bound method NDFrame.head of                                                    sequence condition  \\\n",
      "0         TAACCCTAACCCTAACCCTAACCCTAACCCTAACCCTAACCCTAAC...   Neuro2a   \n",
      "1         ACCCTAACCCTAACCCTAACCCTAACCCTAACCCTAACCCTAACCC...   Neuro2a   \n",
      "2         CCTAACCCAACCCTAACCCTAACCCTAACCCTAACCCTAACCCTAA...   Neuro2a   \n",
      "3         TAACCCTAACCCTAACCCTAACCCTAACCTAACCCTAACCCTAACC...   Neuro2a   \n",
      "4         CCCTAACCCTAACCCTAACCCTAACCCTAACCCCTAACCCTAACCC...   Neuro2a   \n",
      "...                                                     ...       ...   \n",
      "64334862  TTTAGACCTTTAAGGTGAGTGTTACAGCACTGAAAGATGTTATGTC...   Neuro2a   \n",
      "64334863  GTTTTTTCCTTCAGATATTTCCAGAGTTTCTTCCATCTCGCAGGTT...   Neuro2a   \n",
      "64334864  GTCTTGGTCACTTCAAGAATGAAGCTGCAGACCTTAGTGGTGAGGG...   Neuro2a   \n",
      "64334865  AGCACTTAAAGGTGTTATGTCCAGAGTTTTTTCCTACAGATGTGTC...   Neuro2a   \n",
      "64334866  GTTTCTTCCTTCTGGCGGGTTCATGGTCTTGCTCACTTCAAGAATG...   Neuro2a   \n",
      "\n",
      "          prediction                              region  \n",
      "0          -0.007660                    chr1:10000-10170  \n",
      "1           0.066999                    chr1:10050-10220  \n",
      "2          -0.068959                    chr1:10100-10270  \n",
      "3          -0.173480                    chr1:10150-10320  \n",
      "4          -0.020042                    chr1:10200-10370  \n",
      "...              ...                                 ...  \n",
      "64334862   -0.827126  chrY_KI270740v1_random:36850-37020  \n",
      "64334863   -0.996833  chrY_KI270740v1_random:36900-37070  \n",
      "64334864   -0.980638  chrY_KI270740v1_random:36950-37120  \n",
      "64334865   -0.664841  chrY_KI270740v1_random:37000-37170  \n",
      "64334866   -0.074509  chrY_KI270740v1_random:37050-37220  \n",
      "\n",
      "[64334867 rows x 4 columns]>\n",
      "<bound method NDFrame.head of                                                    sequence condition  \\\n",
      "0         TAACCCTAACCCTAACCCTAACCCTAACCCTAACCCTAACCCTAAC...     HepG2   \n",
      "1         ACCCTAACCCTAACCCTAACCCTAACCCTAACCCTAACCCTAACCC...     HepG2   \n",
      "2         CCTAACCCAACCCTAACCCTAACCCTAACCCTAACCCTAACCCTAA...     HepG2   \n",
      "3         TAACCCTAACCCTAACCCTAACCCTAACCTAACCCTAACCCTAACC...     HepG2   \n",
      "4         CCCTAACCCTAACCCTAACCCTAACCCTAACCCCTAACCCTAACCC...     HepG2   \n",
      "...                                                     ...       ...   \n",
      "64334862  TTTAGACCTTTAAGGTGAGTGTTACAGCACTGAAAGATGTTATGTC...     HepG2   \n",
      "64334863  GTTTTTTCCTTCAGATATTTCCAGAGTTTCTTCCATCTCGCAGGTT...     HepG2   \n",
      "64334864  GTCTTGGTCACTTCAAGAATGAAGCTGCAGACCTTAGTGGTGAGGG...     HepG2   \n",
      "64334865  AGCACTTAAAGGTGTTATGTCCAGAGTTTTTTCCTACAGATGTGTC...     HepG2   \n",
      "64334866  GTTTCTTCCTTCTGGCGGGTTCATGGTCTTGCTCACTTCAAGAATG...     HepG2   \n",
      "\n",
      "          prediction                              region  \n",
      "0          -0.100291                    chr1:10000-10170  \n",
      "1          -0.020488                    chr1:10050-10220  \n",
      "2          -0.032757                    chr1:10100-10270  \n",
      "3          -0.073248                    chr1:10150-10320  \n",
      "4          -0.040499                    chr1:10200-10370  \n",
      "...              ...                                 ...  \n",
      "64334862   -1.075787  chrY_KI270740v1_random:36850-37020  \n",
      "64334863   -1.064738  chrY_KI270740v1_random:36900-37070  \n",
      "64334864   -0.576563  chrY_KI270740v1_random:36950-37120  \n",
      "64334865   -0.452260  chrY_KI270740v1_random:37000-37170  \n",
      "64334866   -0.248202  chrY_KI270740v1_random:37050-37220  \n",
      "\n",
      "[64334867 rows x 4 columns]>\n"
     ]
    },
    {
     "ename": "KeyError",
     "evalue": "'sequence'",
     "output_type": "error",
     "traceback": [
      "\u001b[0;31m---------------------------------------------------------------------------\u001b[0m",
      "\u001b[0;31mKeyError\u001b[0m                                  Traceback (most recent call last)",
      "\u001b[0;32m/tmp/ipykernel_1103096/351001266.py\u001b[0m in \u001b[0;36m<module>\u001b[0;34m\u001b[0m\n\u001b[1;32m     11\u001b[0m \u001b[0;34m\u001b[0m\u001b[0m\n\u001b[1;32m     12\u001b[0m \u001b[0;34m\u001b[0m\u001b[0m\n\u001b[0;32m---> 13\u001b[0;31m both_human = (N2a_human\n\u001b[0m\u001b[1;32m     14\u001b[0m                   \u001b[0;34m.\u001b[0m\u001b[0mrename\u001b[0m\u001b[0;34m(\u001b[0m\u001b[0mcolumns\u001b[0m\u001b[0;34m=\u001b[0m\u001b[0;34m{\u001b[0m\u001b[0;34m'prediction'\u001b[0m\u001b[0;34m:\u001b[0m\u001b[0;34m'N2a'\u001b[0m\u001b[0;34m}\u001b[0m\u001b[0;34m)\u001b[0m\u001b[0;34m\u001b[0m\u001b[0;34m\u001b[0m\u001b[0m\n\u001b[1;32m     15\u001b[0m                   \u001b[0;34m.\u001b[0m\u001b[0mfilter\u001b[0m\u001b[0;34m(\u001b[0m\u001b[0;34m[\u001b[0m\u001b[0;34m'region'\u001b[0m\u001b[0;34m,\u001b[0m\u001b[0;34m'N2a'\u001b[0m\u001b[0;34m]\u001b[0m\u001b[0;34m)\u001b[0m\u001b[0;34m\u001b[0m\u001b[0;34m\u001b[0m\u001b[0m\n",
      "\u001b[0;32m~/miniconda3/envs/pythia/lib/python3.8/site-packages/pandas/core/frame.py\u001b[0m in \u001b[0;36mmerge\u001b[0;34m(self, right, how, on, left_on, right_on, left_index, right_index, sort, suffixes, copy, indicator, validate)\u001b[0m\n\u001b[1;32m   8190\u001b[0m         \u001b[0;32mfrom\u001b[0m \u001b[0mpandas\u001b[0m\u001b[0;34m.\u001b[0m\u001b[0mcore\u001b[0m\u001b[0;34m.\u001b[0m\u001b[0mreshape\u001b[0m\u001b[0;34m.\u001b[0m\u001b[0mmerge\u001b[0m \u001b[0;32mimport\u001b[0m \u001b[0mmerge\u001b[0m\u001b[0;34m\u001b[0m\u001b[0;34m\u001b[0m\u001b[0m\n\u001b[1;32m   8191\u001b[0m \u001b[0;34m\u001b[0m\u001b[0m\n\u001b[0;32m-> 8192\u001b[0;31m         return merge(\n\u001b[0m\u001b[1;32m   8193\u001b[0m             \u001b[0mself\u001b[0m\u001b[0;34m,\u001b[0m\u001b[0;34m\u001b[0m\u001b[0;34m\u001b[0m\u001b[0m\n\u001b[1;32m   8194\u001b[0m             \u001b[0mright\u001b[0m\u001b[0;34m,\u001b[0m\u001b[0;34m\u001b[0m\u001b[0;34m\u001b[0m\u001b[0m\n",
      "\u001b[0;32m~/miniconda3/envs/pythia/lib/python3.8/site-packages/pandas/core/reshape/merge.py\u001b[0m in \u001b[0;36mmerge\u001b[0;34m(left, right, how, on, left_on, right_on, left_index, right_index, sort, suffixes, copy, indicator, validate)\u001b[0m\n\u001b[1;32m     72\u001b[0m     \u001b[0mvalidate\u001b[0m\u001b[0;34m=\u001b[0m\u001b[0;32mNone\u001b[0m\u001b[0;34m,\u001b[0m\u001b[0;34m\u001b[0m\u001b[0;34m\u001b[0m\u001b[0m\n\u001b[1;32m     73\u001b[0m ) -> \"DataFrame\":\n\u001b[0;32m---> 74\u001b[0;31m     op = _MergeOperation(\n\u001b[0m\u001b[1;32m     75\u001b[0m         \u001b[0mleft\u001b[0m\u001b[0;34m,\u001b[0m\u001b[0;34m\u001b[0m\u001b[0;34m\u001b[0m\u001b[0m\n\u001b[1;32m     76\u001b[0m         \u001b[0mright\u001b[0m\u001b[0;34m,\u001b[0m\u001b[0;34m\u001b[0m\u001b[0;34m\u001b[0m\u001b[0m\n",
      "\u001b[0;32m~/miniconda3/envs/pythia/lib/python3.8/site-packages/pandas/core/reshape/merge.py\u001b[0m in \u001b[0;36m__init__\u001b[0;34m(self, left, right, how, on, left_on, right_on, axis, left_index, right_index, sort, suffixes, copy, indicator, validate)\u001b[0m\n\u001b[1;32m    666\u001b[0m             \u001b[0mself\u001b[0m\u001b[0;34m.\u001b[0m\u001b[0mright_join_keys\u001b[0m\u001b[0;34m,\u001b[0m\u001b[0;34m\u001b[0m\u001b[0;34m\u001b[0m\u001b[0m\n\u001b[1;32m    667\u001b[0m             \u001b[0mself\u001b[0m\u001b[0;34m.\u001b[0m\u001b[0mjoin_names\u001b[0m\u001b[0;34m,\u001b[0m\u001b[0;34m\u001b[0m\u001b[0;34m\u001b[0m\u001b[0m\n\u001b[0;32m--> 668\u001b[0;31m         ) = self._get_merge_keys()\n\u001b[0m\u001b[1;32m    669\u001b[0m \u001b[0;34m\u001b[0m\u001b[0m\n\u001b[1;32m    670\u001b[0m         \u001b[0;31m# validate the merge keys dtypes. We may need to coerce\u001b[0m\u001b[0;34m\u001b[0m\u001b[0;34m\u001b[0m\u001b[0;34m\u001b[0m\u001b[0m\n",
      "\u001b[0;32m~/miniconda3/envs/pythia/lib/python3.8/site-packages/pandas/core/reshape/merge.py\u001b[0m in \u001b[0;36m_get_merge_keys\u001b[0;34m(self)\u001b[0m\n\u001b[1;32m   1031\u001b[0m                     \u001b[0;32mif\u001b[0m \u001b[0;32mnot\u001b[0m \u001b[0mis_rkey\u001b[0m\u001b[0;34m(\u001b[0m\u001b[0mrk\u001b[0m\u001b[0;34m)\u001b[0m\u001b[0;34m:\u001b[0m\u001b[0;34m\u001b[0m\u001b[0;34m\u001b[0m\u001b[0m\n\u001b[1;32m   1032\u001b[0m                         \u001b[0;32mif\u001b[0m \u001b[0mrk\u001b[0m \u001b[0;32mis\u001b[0m \u001b[0;32mnot\u001b[0m \u001b[0;32mNone\u001b[0m\u001b[0;34m:\u001b[0m\u001b[0;34m\u001b[0m\u001b[0;34m\u001b[0m\u001b[0m\n\u001b[0;32m-> 1033\u001b[0;31m                             \u001b[0mright_keys\u001b[0m\u001b[0;34m.\u001b[0m\u001b[0mappend\u001b[0m\u001b[0;34m(\u001b[0m\u001b[0mright\u001b[0m\u001b[0;34m.\u001b[0m\u001b[0m_get_label_or_level_values\u001b[0m\u001b[0;34m(\u001b[0m\u001b[0mrk\u001b[0m\u001b[0;34m)\u001b[0m\u001b[0;34m)\u001b[0m\u001b[0;34m\u001b[0m\u001b[0;34m\u001b[0m\u001b[0m\n\u001b[0m\u001b[1;32m   1034\u001b[0m                         \u001b[0;32melse\u001b[0m\u001b[0;34m:\u001b[0m\u001b[0;34m\u001b[0m\u001b[0;34m\u001b[0m\u001b[0m\n\u001b[1;32m   1035\u001b[0m                             \u001b[0;31m# work-around for merge_asof(right_index=True)\u001b[0m\u001b[0;34m\u001b[0m\u001b[0;34m\u001b[0m\u001b[0;34m\u001b[0m\u001b[0m\n",
      "\u001b[0;32m~/miniconda3/envs/pythia/lib/python3.8/site-packages/pandas/core/generic.py\u001b[0m in \u001b[0;36m_get_label_or_level_values\u001b[0;34m(self, key, axis)\u001b[0m\n\u001b[1;32m   1681\u001b[0m             \u001b[0mvalues\u001b[0m \u001b[0;34m=\u001b[0m \u001b[0mself\u001b[0m\u001b[0;34m.\u001b[0m\u001b[0maxes\u001b[0m\u001b[0;34m[\u001b[0m\u001b[0maxis\u001b[0m\u001b[0;34m]\u001b[0m\u001b[0;34m.\u001b[0m\u001b[0mget_level_values\u001b[0m\u001b[0;34m(\u001b[0m\u001b[0mkey\u001b[0m\u001b[0;34m)\u001b[0m\u001b[0;34m.\u001b[0m\u001b[0m_values\u001b[0m\u001b[0;34m\u001b[0m\u001b[0;34m\u001b[0m\u001b[0m\n\u001b[1;32m   1682\u001b[0m         \u001b[0;32melse\u001b[0m\u001b[0;34m:\u001b[0m\u001b[0;34m\u001b[0m\u001b[0;34m\u001b[0m\u001b[0m\n\u001b[0;32m-> 1683\u001b[0;31m             \u001b[0;32mraise\u001b[0m \u001b[0mKeyError\u001b[0m\u001b[0;34m(\u001b[0m\u001b[0mkey\u001b[0m\u001b[0;34m)\u001b[0m\u001b[0;34m\u001b[0m\u001b[0;34m\u001b[0m\u001b[0m\n\u001b[0m\u001b[1;32m   1684\u001b[0m \u001b[0;34m\u001b[0m\u001b[0m\n\u001b[1;32m   1685\u001b[0m         \u001b[0;31m# Check for duplicates\u001b[0m\u001b[0;34m\u001b[0m\u001b[0;34m\u001b[0m\u001b[0;34m\u001b[0m\u001b[0m\n",
      "\u001b[0;31mKeyError\u001b[0m: 'sequence'"
     ]
    }
   ],
   "source": [
    "\n",
    "print(\"reading files...\")\n",
    "\n",
    "N2a_human = pd.read_csv(\"scores/PB-PY-0011.hg38.scores.txt\",\n",
    "                       sep='\\t')\n",
    "print(N2a_human.head)\n",
    "\n",
    "\n",
    "HepG2_human = pd.read_csv(\"scores/PB-PY-0012.hg38.scores.txt\",\n",
    "                       sep='\\t')\n",
    "print(HepG2_human.head)\n",
    "\n"
   ]
  },
  {
   "cell_type": "code",
   "execution_count": null,
   "id": "6609b102-0325-4f4b-b033-22106bcd327d",
   "metadata": {},
   "outputs": [],
   "source": [
    "\n",
    "\n",
    "both_human = (N2a_human\n",
    "                  .rename(columns={'prediction':'N2a'})\n",
    "                  .filter(['region','sequence','N2a'])\n",
    "                  .merge(HepG2_human\n",
    "                         .rename(columns={'prediction':'HepG2'})\n",
    "                         .filter(['region','sequence','HepG2']),\n",
    "                                  on=('region','sequence'))\n",
    "                  .assign(spec='human') )\n",
    "#              .assign(diff=lambda x: x['HepG2']-x['N2a']) )\n"
   ]
  },
  {
   "cell_type": "code",
   "execution_count": 6,
   "id": "aa14af84-660d-467a-a31d-11ecebe616fc",
   "metadata": {},
   "outputs": [
    {
     "ename": "NameError",
     "evalue": "name 'both_human' is not defined",
     "output_type": "error",
     "traceback": [
      "\u001b[0;31m---------------------------------------------------------------------------\u001b[0m",
      "\u001b[0;31mNameError\u001b[0m                                 Traceback (most recent call last)",
      "\u001b[0;32m/tmp/ipykernel_1103096/3679710975.py\u001b[0m in \u001b[0;36m<module>\u001b[0;34m\u001b[0m\n\u001b[0;32m----> 1\u001b[0;31m \u001b[0mprint\u001b[0m\u001b[0;34m(\u001b[0m\u001b[0mboth_human\u001b[0m\u001b[0;34m.\u001b[0m\u001b[0mshape\u001b[0m\u001b[0;34m)\u001b[0m\u001b[0;34m\u001b[0m\u001b[0;34m\u001b[0m\u001b[0m\n\u001b[0m\u001b[1;32m      2\u001b[0m \u001b[0mprint\u001b[0m\u001b[0;34m(\u001b[0m\u001b[0mboth_human\u001b[0m\u001b[0;34m.\u001b[0m\u001b[0mhead\u001b[0m\u001b[0;34m)\u001b[0m\u001b[0;34m\u001b[0m\u001b[0;34m\u001b[0m\u001b[0m\n\u001b[1;32m      3\u001b[0m \u001b[0;34m\u001b[0m\u001b[0m\n\u001b[1;32m      4\u001b[0m \u001b[0mboth_human\u001b[0m\u001b[0;34m[\u001b[0m\u001b[0;34m'N2a'\u001b[0m\u001b[0;34m]\u001b[0m \u001b[0;34m=\u001b[0m \u001b[0mpd\u001b[0m\u001b[0;34m.\u001b[0m\u001b[0mto_numeric\u001b[0m\u001b[0;34m(\u001b[0m\u001b[0mHepG2_all\u001b[0m\u001b[0;34m[\u001b[0m\u001b[0;34m'N2a'\u001b[0m\u001b[0;34m]\u001b[0m\u001b[0;34m)\u001b[0m\u001b[0;34m\u001b[0m\u001b[0;34m\u001b[0m\u001b[0m\n\u001b[1;32m      5\u001b[0m \u001b[0mboth_human\u001b[0m\u001b[0;34m[\u001b[0m\u001b[0;34m'HepG2'\u001b[0m\u001b[0;34m]\u001b[0m \u001b[0;34m=\u001b[0m \u001b[0mpd\u001b[0m\u001b[0;34m.\u001b[0m\u001b[0mto_numeric\u001b[0m\u001b[0;34m(\u001b[0m\u001b[0mHepG2_all\u001b[0m\u001b[0;34m[\u001b[0m\u001b[0;34m'HepG2'\u001b[0m\u001b[0;34m]\u001b[0m\u001b[0;34m)\u001b[0m\u001b[0;34m\u001b[0m\u001b[0;34m\u001b[0m\u001b[0m\n",
      "\u001b[0;31mNameError\u001b[0m: name 'both_human' is not defined"
     ]
    }
   ],
   "source": [
    "print(both_human.shape)\n",
    "print(both_human.head)\n",
    "\n",
    "#both_human['N2a'] = pd.to_numeric(HepG2_all['N2a'])\n",
    "#both_human['HepG2'] = pd.to_numeric(HepG2_all['HepG2'])\n",
    "#both_human['diff'] = both_human['HepG2'] - both_human['N2a']\n",
    "\n",
    "#both_human.to_csv(\"scores/both.hg38.scores.diff_seqs_clust.txt\",\n",
    "#                                          sep='\\t',\n",
    "#                                         index=False)\n",
    "\n"
   ]
  },
  {
   "cell_type": "code",
   "execution_count": 7,
   "id": "d0ecb31c-fc88-4e6f-aa9b-5bf8fdec67bf",
   "metadata": {},
   "outputs": [],
   "source": [
    "del N2a_human\n",
    "del HepG2_human\n",
    "gc.collect()"
   ]
  },
  {
   "cell_type": "code",
   "execution_count": null,
   "id": "93eba1e6-28ee-45ff-a0d7-2aefe8540387",
   "metadata": {},
   "outputs": [],
   "source": [
    "both_human_keep = pd.DataFrame(columns=both_human.columns)\n",
    "\n",
    "\n",
    "for i in range(-10,11):\n",
    "    for j in range(-10,11):\n",
    "        both_human_keep.append( both_human\n",
    "                                  .query(\"i < N2a <= i+1\")\n",
    "                                  .query(\"j < HepG2 <= j+1\")\n",
    "                                  .sample(500, replace=False) )\n",
    "\n"
   ]
  },
  {
   "cell_type": "code",
   "execution_count": null,
   "id": "9705c2aa-80fd-4d04-8a52-d3b7991963b0",
   "metadata": {},
   "outputs": [],
   "source": [
    "sns.displot(both_human_keep,\n",
    "           x='HepG2', y='N2a')"
   ]
  },
  {
   "cell_type": "code",
   "execution_count": null,
   "id": "340429d3-07ca-4724-9c52-a26aa3549a4e",
   "metadata": {},
   "outputs": [],
   "source": [
    "\n",
    "\n",
    "\n",
    "N2a_mouse = pd.read_csv(\"scores/PB-PY-0011.mm10.scores.txt\",\n",
    "                       sep='\\t')\n",
    "print(N2a_mouse.head)\n",
    "\n",
    "\n",
    "HepG2_mouse = pd.read_csv(\"scores/PB-PY-0012.mm10.scores.txt\",\n",
    "                       sep='\\t')\n",
    "print(HepG2_mouse.head)\n",
    "\n",
    "\n",
    "both_human = (N2a_mouse\n",
    "                  .rename(columns={'prediction':'N2a'})\n",
    "                  .filter(['chr','pos','sequence','N2a'])\n",
    "                  .merge(HepG2_human\n",
    "                         .rename(columns={'prediction':'HepG2'})\n",
    "                         .filter(['chr','pos','sequence','HepG2']),\n",
    "                                  on=('chr','pos','sequence'))\n",
    "              .assign(spec='human') )"
   ]
  },
  {
   "cell_type": "code",
   "execution_count": null,
   "id": "9aa088fe-68e1-4d5a-8729-00d1ab4720e3",
   "metadata": {},
   "outputs": [],
   "source": [
    "print(N2a_human.shape)\n",
    "print(N2a_mouse.head)"
   ]
  },
  {
   "cell_type": "code",
   "execution_count": null,
   "id": "6810481f-dfbb-4424-93bb-4fd2ed6b244f",
   "metadata": {},
   "outputs": [],
   "source": [
    "N2a_all = ( N2a_human\n",
    "              .assign(model='N2a',spec='human')\n",
    "                      .append( N2a_mouse\n",
    "                                .assign(model='N2a',spec='mouse') ) )\n",
    "N2a_all['prediction'] = pd.to_numeric(N2a_all['prediction'])\n",
    "\n",
    "HepG2_all = ( HepG2_human\n",
    "              .assign(model='HepG2',spec='human')\n",
    "                      .append( HepG2_mouse\n",
    "                                .assign(model='HepG2',spec='mouse') ) )\n",
    "HepG2_all['prediction'] = pd.to_numeric(HepG2_all['prediction'])\n",
    "\n",
    "#both_long = (N2a_all\n",
    "#                .append(HepG2_all))\n",
    "#                #.rename(columns={0:'pred_act',1:'chr',2:'pos'}))\n",
    "\n",
    "both_merged = (N2a_all\n",
    "                  .rename(columns={'prediction':'N2a'})\n",
    "                  .filter(['N2a','chr','pos','spec'])\n",
    "                  .merge(HepG2_all\n",
    "                         .rename(columns={'prediction':'HepG2'})\n",
    "                         .filter(['HepG2','chr','pos','spec',]),\n",
    "                                  on=('chr','pos','spec'))\n",
    "              .assign(diff=lambda x: x['HepG2']-x['N2a']) )\n",
    "\n",
    "del N2a_all\n",
    "del HepG2_all\n",
    "\n",
    "gc.collect()"
   ]
  },
  {
   "cell_type": "code",
   "execution_count": null,
   "id": "29163b45-a8d5-4a87-a5c8-6597a728064f",
   "metadata": {},
   "outputs": [],
   "source": [
    "both_merged = (both_merged\n",
    "               .filter(['chr','pos','spec','HepG2','N2a','diff'])\n",
    "               .drop_duplicates())\n",
    "\n",
    "#rint(both_long.shape)\n",
    "print(both_merged.shape)\n",
    "print(both_merged.head)\n",
    "\n",
    "print(both_merged.query(\"abs(diff) > 1\"))\n",
    "print(both_merged.query(\"abs(diff) > 1 & \\\n",
    "                            (HepG2<-.5 | HepG2>.5) & \\\n",
    "                            (N2a<-.5 | N2a>.5) & \\\n",
    "                            HepG2*N2a<1\"))\n",
    "\n",
    "print(both_merged.query(\"abs(diff) > 2\"))\n",
    "print(both_merged.query(\"abs(diff) > 2 & \\\n",
    "                            (HepG2<-.5 | HepG2>.5) & \\\n",
    "                            (N2a<-.5 | N2a>.5) & \\\n",
    "                            HepG2*N2a<1\"))\n",
    "\n",
    "print(both_merged.query(\"abs(diff) > 3\"))\n",
    "print(both_merged.query(\"abs(diff) > 3 & \\\n",
    "                            (HepG2<-.5 | HepG2>.5) & \\\n",
    "                            (N2a<-.5 | N2a>.5) & \\\n",
    "                            HepG2*N2a<1\"))"
   ]
  },
  {
   "cell_type": "code",
   "execution_count": 8,
   "id": "89d42510-b1ae-4a8c-8cec-2ed2ef974ee0",
   "metadata": {},
   "outputs": [],
   "source": [
    "\n",
    "both_merged.query(\"abs(diff) > 1\").to_csv(\"scores/all.absdiff1.txt\",\n",
    "                                          sep='\\t',\n",
    "                                         index=False)\n",
    "\n",
    "both_merged.query(\"abs(diff) > 2\").to_csv(\"scores/all.absdiff2.txt\",\n",
    "                                          sep='\\t',\n",
    "                                         index=False)\n",
    "\n",
    "both_merged.query(\"abs(diff) > 2 & \\\n",
    "                            (HepG2<-.5 | HepG2>.5) & \\\n",
    "                            (N2a<-.5 | N2a>.5) & \\\n",
    "                            HepG2*N2a<1\").to_csv(\"scores/all.absdiff2_filt.txt\",\n",
    "                                          sep='\\t',\n",
    "                                         index=False)\n"
   ]
  },
  {
   "cell_type": "code",
   "execution_count": null,
   "id": "872ddc5f-1d0e-4756-9643-fea7c0da56e4",
   "metadata": {},
   "outputs": [],
   "source": [
    "sns.set(style=\"whitegrid\")\n",
    "sns.scatterplot(data=both_merged,\n",
    "                x='HepG2',\n",
    "                y='N2a',\n",
    "               s=10)\n",
    "plt.plot([-6,6],[-6,6],\n",
    "        linewidth=1,\n",
    "        color='black')\n",
    "\n",
    "sns.set(style=\"whitegrid\")\n",
    "g = sns.FacetGrid(\n",
    "    data=both_merged,\n",
    "    col='spec')\n",
    "g.map(sns.scatterplot,\n",
    "                'HepG2',\n",
    "                'N2a',\n",
    "               s=6)\n",
    "\n",
    "def const_line(*args, **kwargs):\n",
    "    x=np.arange(-6,6,.25)\n",
    "    y=1*x\n",
    "    plt.plot(y,x,\n",
    "             linewidth=1,\n",
    "        color='black')\n",
    "\n",
    "g.map(const_line)\n",
    "\n"
   ]
  },
  {
   "cell_type": "code",
   "execution_count": null,
   "id": "7c547e10-aa73-475e-aa0c-7c3e4b2263ea",
   "metadata": {},
   "outputs": [],
   "source": [
    "sns.displot(data=both_merged_1M,\n",
    "                x='HepG2',\n",
    "                y='N2a',\n",
    "           binwidth=(.25,.25))\n",
    "plt.plot([-6,6],[-6,6],\n",
    "        linewidth=1,\n",
    "        color='black')\n",
    "\n",
    "sns.displot(data=both_merged_1M,\n",
    "                x='HepG2',\n",
    "                y='N2a',\n",
    "           hue=\"spec\",\n",
    "           binwidth=(.25,.25))\n",
    "plt.plot([-6,6],[-6,6],\n",
    "        linewidth=1,\n",
    "        color='black')\n",
    "\n",
    "sns.displot(data=both_merged_1M,\n",
    "                x='HepG2',\n",
    "                y='N2a',\n",
    "           hue=\"spec\",\n",
    "           binwidth=(.25,.25),\n",
    "           col='spec').map(const_line)\n",
    "plt.plot([-6,6],[-6,6],\n",
    "        linewidth=1,\n",
    "        color='black')"
   ]
  },
  {
   "cell_type": "code",
   "execution_count": 14,
   "id": "e19deee8-dad5-4874-b61a-867196167f99",
   "metadata": {},
   "outputs": [
    {
     "ename": "NameError",
     "evalue": "name 'read' is not defined",
     "output_type": "error",
     "traceback": [
      "\u001b[0;31m---------------------------------------------------------------------------\u001b[0m",
      "\u001b[0;31mNameError\u001b[0m                                 Traceback (most recent call last)",
      "\u001b[0;32m/tmp/ipykernel_1081457/2921569733.py\u001b[0m in \u001b[0;36m<module>\u001b[0;34m\u001b[0m\n\u001b[0;32m----> 1\u001b[0;31m \u001b[0mhuman_seqs\u001b[0m \u001b[0;34m=\u001b[0m \u001b[0mread\u001b[0m\u001b[0;34m.\u001b[0m\u001b[0mtable\u001b[0m\u001b[0;34m(\u001b[0m\u001b[0;34m\"tiled_seqs/hg38_all_chr_tiling.txt\"\u001b[0m\u001b[0;34m)\u001b[0m\u001b[0;34m\u001b[0m\u001b[0;34m\u001b[0m\u001b[0m\n\u001b[0m\u001b[1;32m      2\u001b[0m \u001b[0mmouse_seqs\u001b[0m \u001b[0;34m=\u001b[0m \u001b[0mread\u001b[0m\u001b[0;34m.\u001b[0m\u001b[0mtable\u001b[0m\u001b[0;34m(\u001b[0m\u001b[0;34m\"tiled_seqs/mm10_all_chr_tiling.txt\"\u001b[0m\u001b[0;34m)\u001b[0m\u001b[0;34m\u001b[0m\u001b[0;34m\u001b[0m\u001b[0m\n",
      "\u001b[0;31mNameError\u001b[0m: name 'read' is not defined"
     ]
    }
   ],
   "source": [
    "\n",
    "\n",
    "\n",
    "\n",
    "\n"
   ]
  },
  {
   "cell_type": "code",
   "execution_count": 14,
   "id": "cb041c97-0848-47b3-a791-203f7ae7bce7",
   "metadata": {},
   "outputs": [
    {
     "ename": "NameError",
     "evalue": "name 'HepG2_human' is not defined",
     "output_type": "error",
     "traceback": [
      "\u001b[0;31m---------------------------------------------------------------------------\u001b[0m",
      "\u001b[0;31mNameError\u001b[0m                                 Traceback (most recent call last)",
      "\u001b[0;32m/tmp/ipykernel_1080903/1512711673.py\u001b[0m in \u001b[0;36m<module>\u001b[0;34m\u001b[0m\n\u001b[1;32m      1\u001b[0m \u001b[0;31m#del N2a_human\u001b[0m\u001b[0;34m\u001b[0m\u001b[0;34m\u001b[0m\u001b[0;34m\u001b[0m\u001b[0m\n\u001b[1;32m      2\u001b[0m \u001b[0;31m#del N2a_mouse\u001b[0m\u001b[0;34m\u001b[0m\u001b[0;34m\u001b[0m\u001b[0;34m\u001b[0m\u001b[0m\n\u001b[0;32m----> 3\u001b[0;31m \u001b[0;32mdel\u001b[0m \u001b[0mHepG2_human\u001b[0m\u001b[0;34m\u001b[0m\u001b[0;34m\u001b[0m\u001b[0m\n\u001b[0m\u001b[1;32m      4\u001b[0m \u001b[0;32mdel\u001b[0m \u001b[0mHepG2_mouse\u001b[0m\u001b[0;34m\u001b[0m\u001b[0;34m\u001b[0m\u001b[0m\n",
      "\u001b[0;31mNameError\u001b[0m: name 'HepG2_human' is not defined"
     ]
    }
   ],
   "source": [
    "#del N2a_human\n",
    "#del N2a_mouse\n",
    "del HepG2_human\n",
    "del HepG2_mouse"
   ]
  },
  {
   "cell_type": "code",
   "execution_count": 8,
   "id": "74a27d2d-4448-42d4-bc0a-b980cf063163",
   "metadata": {},
   "outputs": [
    {
     "name": "stdout",
     "output_type": "stream",
     "text": [
      "['In', 'Out', '_', '__', '___', '__builtin__', '__builtins__', '__doc__', '__loader__', '__name__', '__package__', '__spec__', '_dh', '_i', '_i1', '_i2', '_i3', '_i4', '_i5', '_i6', '_i7', '_i8', '_ih', '_ii', '_iii', '_oh', 'exit', 'gc', 'get_ipython', 'np', 'os', 'pd', 'plt', 'quit', 'sns']\n"
     ]
    },
    {
     "data": {
      "text/plain": [
       "195"
      ]
     },
     "execution_count": 8,
     "metadata": {},
     "output_type": "execute_result"
    }
   ],
   "source": [
    "print(dir())\n",
    "gc.collect()"
   ]
  },
  {
   "cell_type": "code",
   "execution_count": null,
   "id": "19fc11b2-7c4a-4649-84bc-4890e6cea700",
   "metadata": {},
   "outputs": [],
   "source": []
  }
 ],
 "metadata": {
  "kernelspec": {
   "display_name": "Python 3 (ipykernel)",
   "language": "python",
   "name": "python3"
  },
  "language_info": {
   "codemirror_mode": {
    "name": "ipython",
    "version": 3
   },
   "file_extension": ".py",
   "mimetype": "text/x-python",
   "name": "python",
   "nbconvert_exporter": "python",
   "pygments_lexer": "ipython3",
   "version": "3.8.12"
  }
 },
 "nbformat": 4,
 "nbformat_minor": 5
}
