{
 "cells": [
  {
   "cell_type": "markdown",
   "id": "5893349d-a783-43fe-bb63-0d6246efcd0e",
   "metadata": {},
   "source": [
    "# Get scores for diff seqs from hg38"
   ]
  },
  {
   "cell_type": "code",
   "execution_count": 2,
   "id": "80037e26-2940-44fd-a293-f6bba82918d8",
   "metadata": {},
   "outputs": [],
   "source": [
    "import pandas as pd\n",
    "import numpy as np\n",
    "import os\n",
    "import gc\n",
    "\n",
    "import seaborn as sns\n",
    "import matplotlib.pyplot as plt\n",
    "\n",
    "import random\n",
    "\n",
    "os.chdir(\"/home/elise/projects/whole-genome-tiling-predictions/\")"
   ]
  },
  {
   "cell_type": "code",
   "execution_count": 3,
   "id": "a68805fd-d03a-4dab-9843-cd29bfa50b2e",
   "metadata": {},
   "outputs": [
    {
     "name": "stdout",
     "output_type": "stream",
     "text": [
      "reading files...\n",
      "<bound method NDFrame.head of                                                    sequence  prediction  \\\n",
      "0         TAACCCTAACCCTAACCCTAACCCTAACCCTAACCCTAACCCTAAC...   -0.007660   \n",
      "1         ACCCTAACCCTAACCCTAACCCTAACCCTAACCCTAACCCTAACCC...    0.066999   \n",
      "2         CCTAACCCAACCCTAACCCTAACCCTAACCCTAACCCTAACCCTAA...   -0.068959   \n",
      "3         TAACCCTAACCCTAACCCTAACCCTAACCTAACCCTAACCCTAACC...   -0.173480   \n",
      "4         CCCTAACCCTAACCCTAACCCTAACCCTAACCCCTAACCCTAACCC...   -0.020042   \n",
      "...                                                     ...         ...   \n",
      "64334862  TTTAGACCTTTAAGGTGAGTGTTACAGCACTGAAAGATGTTATGTC...   -0.827126   \n",
      "64334863  GTTTTTTCCTTCAGATATTTCCAGAGTTTCTTCCATCTCGCAGGTT...   -0.996833   \n",
      "64334864  GTCTTGGTCACTTCAAGAATGAAGCTGCAGACCTTAGTGGTGAGGG...   -0.980638   \n",
      "64334865  AGCACTTAAAGGTGTTATGTCCAGAGTTTTTTCCTACAGATGTGTC...   -0.664841   \n",
      "64334866  GTTTCTTCCTTCTGGCGGGTTCATGGTCTTGCTCACTTCAAGAATG...   -0.074509   \n",
      "\n",
      "                                      region  \n",
      "0                           chr1:10000-10170  \n",
      "1                           chr1:10050-10220  \n",
      "2                           chr1:10100-10270  \n",
      "3                           chr1:10150-10320  \n",
      "4                           chr1:10200-10370  \n",
      "...                                      ...  \n",
      "64334862  chrY_KI270740v1_random:36850-37020  \n",
      "64334863  chrY_KI270740v1_random:36900-37070  \n",
      "64334864  chrY_KI270740v1_random:36950-37120  \n",
      "64334865  chrY_KI270740v1_random:37000-37170  \n",
      "64334866  chrY_KI270740v1_random:37050-37220  \n",
      "\n",
      "[64334867 rows x 3 columns]>\n",
      "<bound method NDFrame.head of                                                    sequence  prediction  \\\n",
      "0         TAACCCTAACCCTAACCCTAACCCTAACCCTAACCCTAACCCTAAC...   -0.100291   \n",
      "1         ACCCTAACCCTAACCCTAACCCTAACCCTAACCCTAACCCTAACCC...   -0.020488   \n",
      "2         CCTAACCCAACCCTAACCCTAACCCTAACCCTAACCCTAACCCTAA...   -0.032757   \n",
      "3         TAACCCTAACCCTAACCCTAACCCTAACCTAACCCTAACCCTAACC...   -0.073248   \n",
      "4         CCCTAACCCTAACCCTAACCCTAACCCTAACCCCTAACCCTAACCC...   -0.040499   \n",
      "...                                                     ...         ...   \n",
      "64334862  TTTAGACCTTTAAGGTGAGTGTTACAGCACTGAAAGATGTTATGTC...   -1.075787   \n",
      "64334863  GTTTTTTCCTTCAGATATTTCCAGAGTTTCTTCCATCTCGCAGGTT...   -1.064738   \n",
      "64334864  GTCTTGGTCACTTCAAGAATGAAGCTGCAGACCTTAGTGGTGAGGG...   -0.576563   \n",
      "64334865  AGCACTTAAAGGTGTTATGTCCAGAGTTTTTTCCTACAGATGTGTC...   -0.452260   \n",
      "64334866  GTTTCTTCCTTCTGGCGGGTTCATGGTCTTGCTCACTTCAAGAATG...   -0.248202   \n",
      "\n",
      "                                      region  \n",
      "0                           chr1:10000-10170  \n",
      "1                           chr1:10050-10220  \n",
      "2                           chr1:10100-10270  \n",
      "3                           chr1:10150-10320  \n",
      "4                           chr1:10200-10370  \n",
      "...                                      ...  \n",
      "64334862  chrY_KI270740v1_random:36850-37020  \n",
      "64334863  chrY_KI270740v1_random:36900-37070  \n",
      "64334864  chrY_KI270740v1_random:36950-37120  \n",
      "64334865  chrY_KI270740v1_random:37000-37170  \n",
      "64334866  chrY_KI270740v1_random:37050-37220  \n",
      "\n",
      "[64334867 rows x 3 columns]>\n"
     ]
    }
   ],
   "source": [
    "\n",
    "print(\"reading files...\")\n",
    "\n",
    "N2a_human = pd.read_csv(\"scores/PB-PY-0011.hg38.scores.txt\",\n",
    "                       sep='\\t').filter(['sequence','prediction','region'])\n",
    "N2a_human['prediction'] = pd.to_numeric(N2a_human['prediction'])\n",
    "print(N2a_human.head)\n",
    "\n",
    "\n",
    "HepG2_human = pd.read_csv(\"scores/PB-PY-0012.hg38.scores.txt\",\n",
    "                       sep='\\t').filter(['sequence','prediction','region'])\n",
    "HepG2_human['prediction'] = pd.to_numeric(HepG2_human['prediction'])\n",
    "print(HepG2_human.head)\n",
    "\n"
   ]
  },
  {
   "cell_type": "code",
   "execution_count": 4,
   "id": "6609b102-0325-4f4b-b033-22106bcd327d",
   "metadata": {},
   "outputs": [],
   "source": [
    "\n",
    "both_human = (N2a_human\n",
    "                  .rename(columns={'prediction':'N2a'})\n",
    "                  .filter(['region','sequence','N2a'])\n",
    "                  .merge(HepG2_human\n",
    "                         .rename(columns={'prediction':'HepG2'})\n",
    "                         .filter(['region','sequence','HepG2']),\n",
    "                                  on=('region','sequence'))\n",
    "                  .drop_duplicates() )\n",
    "#              .assign(diff=lambda x: x['HepG2']-x['N2a']) )\n"
   ]
  },
  {
   "cell_type": "code",
   "execution_count": 5,
   "id": "80f0cfde-ef37-4050-bf0e-ccbbf06b27c7",
   "metadata": {},
   "outputs": [
    {
     "name": "stdout",
     "output_type": "stream",
     "text": [
      "(64334867, 3)\n",
      "(64334867, 3)\n",
      "(60981881, 4)\n"
     ]
    },
    {
     "ename": "KeyboardInterrupt",
     "evalue": "",
     "output_type": "error",
     "traceback": [
      "\u001b[0;31m---------------------------------------------------------------------------\u001b[0m",
      "\u001b[0;31mKeyboardInterrupt\u001b[0m                         Traceback (most recent call last)",
      "\u001b[0;32m/tmp/ipykernel_1107008/600406480.py\u001b[0m in \u001b[0;36m<module>\u001b[0;34m\u001b[0m\n\u001b[1;32m      2\u001b[0m \u001b[0mprint\u001b[0m\u001b[0;34m(\u001b[0m\u001b[0mHepG2_human\u001b[0m\u001b[0;34m.\u001b[0m\u001b[0mshape\u001b[0m\u001b[0;34m)\u001b[0m\u001b[0;34m\u001b[0m\u001b[0;34m\u001b[0m\u001b[0m\n\u001b[1;32m      3\u001b[0m \u001b[0mprint\u001b[0m\u001b[0;34m(\u001b[0m\u001b[0mboth_human\u001b[0m\u001b[0;34m.\u001b[0m\u001b[0mshape\u001b[0m\u001b[0;34m)\u001b[0m\u001b[0;34m\u001b[0m\u001b[0;34m\u001b[0m\u001b[0m\n\u001b[0;32m----> 4\u001b[0;31m \u001b[0mprint\u001b[0m\u001b[0;34m(\u001b[0m\u001b[0mboth_human\u001b[0m\u001b[0;34m.\u001b[0m\u001b[0mdrop_duplicates\u001b[0m\u001b[0;34m(\u001b[0m\u001b[0;34m)\u001b[0m\u001b[0;34m.\u001b[0m\u001b[0mshape\u001b[0m\u001b[0;34m)\u001b[0m\u001b[0;34m\u001b[0m\u001b[0;34m\u001b[0m\u001b[0m\n\u001b[0m",
      "\u001b[0;32m~/miniconda3/envs/pythia/lib/python3.8/site-packages/pandas/core/frame.py\u001b[0m in \u001b[0;36mdrop_duplicates\u001b[0;34m(self, subset, keep, inplace, ignore_index)\u001b[0m\n\u001b[1;32m   5266\u001b[0m         \u001b[0minplace\u001b[0m \u001b[0;34m=\u001b[0m \u001b[0mvalidate_bool_kwarg\u001b[0m\u001b[0;34m(\u001b[0m\u001b[0minplace\u001b[0m\u001b[0;34m,\u001b[0m \u001b[0;34m\"inplace\"\u001b[0m\u001b[0;34m)\u001b[0m\u001b[0;34m\u001b[0m\u001b[0;34m\u001b[0m\u001b[0m\n\u001b[1;32m   5267\u001b[0m         \u001b[0mignore_index\u001b[0m \u001b[0;34m=\u001b[0m \u001b[0mvalidate_bool_kwarg\u001b[0m\u001b[0;34m(\u001b[0m\u001b[0mignore_index\u001b[0m\u001b[0;34m,\u001b[0m \u001b[0;34m\"ignore_index\"\u001b[0m\u001b[0;34m)\u001b[0m\u001b[0;34m\u001b[0m\u001b[0;34m\u001b[0m\u001b[0m\n\u001b[0;32m-> 5268\u001b[0;31m         \u001b[0mduplicated\u001b[0m \u001b[0;34m=\u001b[0m \u001b[0mself\u001b[0m\u001b[0;34m.\u001b[0m\u001b[0mduplicated\u001b[0m\u001b[0;34m(\u001b[0m\u001b[0msubset\u001b[0m\u001b[0;34m,\u001b[0m \u001b[0mkeep\u001b[0m\u001b[0;34m=\u001b[0m\u001b[0mkeep\u001b[0m\u001b[0;34m)\u001b[0m\u001b[0;34m\u001b[0m\u001b[0;34m\u001b[0m\u001b[0m\n\u001b[0m\u001b[1;32m   5269\u001b[0m \u001b[0;34m\u001b[0m\u001b[0m\n\u001b[1;32m   5270\u001b[0m         \u001b[0mresult\u001b[0m \u001b[0;34m=\u001b[0m \u001b[0mself\u001b[0m\u001b[0;34m[\u001b[0m\u001b[0;34m-\u001b[0m\u001b[0mduplicated\u001b[0m\u001b[0;34m]\u001b[0m\u001b[0;34m\u001b[0m\u001b[0;34m\u001b[0m\u001b[0m\n",
      "\u001b[0;32m~/miniconda3/envs/pythia/lib/python3.8/site-packages/pandas/core/frame.py\u001b[0m in \u001b[0;36mduplicated\u001b[0;34m(self, subset, keep)\u001b[0m\n\u001b[1;32m   5403\u001b[0m \u001b[0;34m\u001b[0m\u001b[0m\n\u001b[1;32m   5404\u001b[0m         \u001b[0mvals\u001b[0m \u001b[0;34m=\u001b[0m \u001b[0;34m(\u001b[0m\u001b[0mcol\u001b[0m\u001b[0;34m.\u001b[0m\u001b[0mvalues\u001b[0m \u001b[0;32mfor\u001b[0m \u001b[0mname\u001b[0m\u001b[0;34m,\u001b[0m \u001b[0mcol\u001b[0m \u001b[0;32min\u001b[0m \u001b[0mself\u001b[0m\u001b[0;34m.\u001b[0m\u001b[0mitems\u001b[0m\u001b[0;34m(\u001b[0m\u001b[0;34m)\u001b[0m \u001b[0;32mif\u001b[0m \u001b[0mname\u001b[0m \u001b[0;32min\u001b[0m \u001b[0msubset\u001b[0m\u001b[0;34m)\u001b[0m\u001b[0;34m\u001b[0m\u001b[0;34m\u001b[0m\u001b[0m\n\u001b[0;32m-> 5405\u001b[0;31m         \u001b[0mlabels\u001b[0m\u001b[0;34m,\u001b[0m \u001b[0mshape\u001b[0m \u001b[0;34m=\u001b[0m \u001b[0mmap\u001b[0m\u001b[0;34m(\u001b[0m\u001b[0mlist\u001b[0m\u001b[0;34m,\u001b[0m \u001b[0mzip\u001b[0m\u001b[0;34m(\u001b[0m\u001b[0;34m*\u001b[0m\u001b[0mmap\u001b[0m\u001b[0;34m(\u001b[0m\u001b[0mf\u001b[0m\u001b[0;34m,\u001b[0m \u001b[0mvals\u001b[0m\u001b[0;34m)\u001b[0m\u001b[0;34m)\u001b[0m\u001b[0;34m)\u001b[0m\u001b[0;34m\u001b[0m\u001b[0;34m\u001b[0m\u001b[0m\n\u001b[0m\u001b[1;32m   5406\u001b[0m \u001b[0;34m\u001b[0m\u001b[0m\n\u001b[1;32m   5407\u001b[0m         \u001b[0mids\u001b[0m \u001b[0;34m=\u001b[0m \u001b[0mget_group_index\u001b[0m\u001b[0;34m(\u001b[0m\u001b[0mlabels\u001b[0m\u001b[0;34m,\u001b[0m \u001b[0mshape\u001b[0m\u001b[0;34m,\u001b[0m \u001b[0msort\u001b[0m\u001b[0;34m=\u001b[0m\u001b[0;32mFalse\u001b[0m\u001b[0;34m,\u001b[0m \u001b[0mxnull\u001b[0m\u001b[0;34m=\u001b[0m\u001b[0;32mFalse\u001b[0m\u001b[0;34m)\u001b[0m\u001b[0;34m\u001b[0m\u001b[0;34m\u001b[0m\u001b[0m\n",
      "\u001b[0;32m~/miniconda3/envs/pythia/lib/python3.8/site-packages/pandas/core/frame.py\u001b[0m in \u001b[0;36mf\u001b[0;34m(vals)\u001b[0m\n\u001b[1;32m   5377\u001b[0m \u001b[0;34m\u001b[0m\u001b[0m\n\u001b[1;32m   5378\u001b[0m         \u001b[0;32mdef\u001b[0m \u001b[0mf\u001b[0m\u001b[0;34m(\u001b[0m\u001b[0mvals\u001b[0m\u001b[0;34m)\u001b[0m\u001b[0;34m:\u001b[0m\u001b[0;34m\u001b[0m\u001b[0;34m\u001b[0m\u001b[0m\n\u001b[0;32m-> 5379\u001b[0;31m             labels, shape = algorithms.factorize(\n\u001b[0m\u001b[1;32m   5380\u001b[0m                 \u001b[0mvals\u001b[0m\u001b[0;34m,\u001b[0m \u001b[0msize_hint\u001b[0m\u001b[0;34m=\u001b[0m\u001b[0mmin\u001b[0m\u001b[0;34m(\u001b[0m\u001b[0mlen\u001b[0m\u001b[0;34m(\u001b[0m\u001b[0mself\u001b[0m\u001b[0;34m)\u001b[0m\u001b[0;34m,\u001b[0m \u001b[0mSIZE_HINT_LIMIT\u001b[0m\u001b[0;34m)\u001b[0m\u001b[0;34m\u001b[0m\u001b[0;34m\u001b[0m\u001b[0m\n\u001b[1;32m   5381\u001b[0m             )\n",
      "\u001b[0;32m~/miniconda3/envs/pythia/lib/python3.8/site-packages/pandas/core/algorithms.py\u001b[0m in \u001b[0;36mfactorize\u001b[0;34m(values, sort, na_sentinel, size_hint)\u001b[0m\n\u001b[1;32m    720\u001b[0m             \u001b[0mna_value\u001b[0m \u001b[0;34m=\u001b[0m \u001b[0;32mNone\u001b[0m\u001b[0;34m\u001b[0m\u001b[0;34m\u001b[0m\u001b[0m\n\u001b[1;32m    721\u001b[0m \u001b[0;34m\u001b[0m\u001b[0m\n\u001b[0;32m--> 722\u001b[0;31m         codes, uniques = factorize_array(\n\u001b[0m\u001b[1;32m    723\u001b[0m             \u001b[0mvalues\u001b[0m\u001b[0;34m,\u001b[0m \u001b[0mna_sentinel\u001b[0m\u001b[0;34m=\u001b[0m\u001b[0mna_sentinel\u001b[0m\u001b[0;34m,\u001b[0m \u001b[0msize_hint\u001b[0m\u001b[0;34m=\u001b[0m\u001b[0msize_hint\u001b[0m\u001b[0;34m,\u001b[0m \u001b[0mna_value\u001b[0m\u001b[0;34m=\u001b[0m\u001b[0mna_value\u001b[0m\u001b[0;34m\u001b[0m\u001b[0;34m\u001b[0m\u001b[0m\n\u001b[1;32m    724\u001b[0m         )\n",
      "\u001b[0;32m~/miniconda3/envs/pythia/lib/python3.8/site-packages/pandas/core/algorithms.py\u001b[0m in \u001b[0;36mfactorize_array\u001b[0;34m(values, na_sentinel, size_hint, na_value, mask)\u001b[0m\n\u001b[1;32m    526\u001b[0m \u001b[0;34m\u001b[0m\u001b[0m\n\u001b[1;32m    527\u001b[0m     \u001b[0mtable\u001b[0m \u001b[0;34m=\u001b[0m \u001b[0mhash_klass\u001b[0m\u001b[0;34m(\u001b[0m\u001b[0msize_hint\u001b[0m \u001b[0;32mor\u001b[0m \u001b[0mlen\u001b[0m\u001b[0;34m(\u001b[0m\u001b[0mvalues\u001b[0m\u001b[0;34m)\u001b[0m\u001b[0;34m)\u001b[0m\u001b[0;34m\u001b[0m\u001b[0;34m\u001b[0m\u001b[0m\n\u001b[0;32m--> 528\u001b[0;31m     uniques, codes = table.factorize(\n\u001b[0m\u001b[1;32m    529\u001b[0m         \u001b[0mvalues\u001b[0m\u001b[0;34m,\u001b[0m \u001b[0mna_sentinel\u001b[0m\u001b[0;34m=\u001b[0m\u001b[0mna_sentinel\u001b[0m\u001b[0;34m,\u001b[0m \u001b[0mna_value\u001b[0m\u001b[0;34m=\u001b[0m\u001b[0mna_value\u001b[0m\u001b[0;34m,\u001b[0m \u001b[0mmask\u001b[0m\u001b[0;34m=\u001b[0m\u001b[0mmask\u001b[0m\u001b[0;34m\u001b[0m\u001b[0;34m\u001b[0m\u001b[0m\n\u001b[1;32m    530\u001b[0m     )\n",
      "\u001b[0;32mpandas/_libs/hashtable_class_helper.pxi\u001b[0m in \u001b[0;36mpandas._libs.hashtable.StringHashTable.factorize\u001b[0;34m()\u001b[0m\n",
      "\u001b[0;32mpandas/_libs/hashtable_class_helper.pxi\u001b[0m in \u001b[0;36mpandas._libs.hashtable.StringHashTable._unique\u001b[0;34m()\u001b[0m\n",
      "\u001b[0;32m~/miniconda3/envs/pythia/lib/python3.8/site-packages/numpy/core/_asarray.py\u001b[0m in \u001b[0;36masarray\u001b[0;34m(a, dtype, order)\u001b[0m\n\u001b[1;32m     12\u001b[0m ]\n\u001b[1;32m     13\u001b[0m \u001b[0;34m\u001b[0m\u001b[0m\n\u001b[0;32m---> 14\u001b[0;31m \u001b[0;34m@\u001b[0m\u001b[0mset_module\u001b[0m\u001b[0;34m(\u001b[0m\u001b[0;34m'numpy'\u001b[0m\u001b[0;34m)\u001b[0m\u001b[0;34m\u001b[0m\u001b[0;34m\u001b[0m\u001b[0m\n\u001b[0m\u001b[1;32m     15\u001b[0m \u001b[0;32mdef\u001b[0m \u001b[0masarray\u001b[0m\u001b[0;34m(\u001b[0m\u001b[0ma\u001b[0m\u001b[0;34m,\u001b[0m \u001b[0mdtype\u001b[0m\u001b[0;34m=\u001b[0m\u001b[0;32mNone\u001b[0m\u001b[0;34m,\u001b[0m \u001b[0morder\u001b[0m\u001b[0;34m=\u001b[0m\u001b[0;32mNone\u001b[0m\u001b[0;34m)\u001b[0m\u001b[0;34m:\u001b[0m\u001b[0;34m\u001b[0m\u001b[0;34m\u001b[0m\u001b[0m\n\u001b[1;32m     16\u001b[0m     \"\"\"Convert the input to an array.\n",
      "\u001b[0;31mKeyboardInterrupt\u001b[0m: "
     ]
    }
   ],
   "source": [
    "print(N2a_human.shape)\n",
    "print(HepG2_human.shape)\n",
    "print(both_human.shape)\n",
    "#print(both_human.drop_duplicates().shape)"
   ]
  },
  {
   "cell_type": "code",
   "execution_count": 6,
   "id": "d0ecb31c-fc88-4e6f-aa9b-5bf8fdec67bf",
   "metadata": {},
   "outputs": [
    {
     "data": {
      "text/plain": [
       "8"
      ]
     },
     "execution_count": 6,
     "metadata": {},
     "output_type": "execute_result"
    }
   ],
   "source": [
    "del N2a_human\n",
    "del HepG2_human\n",
    "gc.collect()"
   ]
  },
  {
   "cell_type": "code",
   "execution_count": 7,
   "id": "aa14af84-660d-467a-a31d-11ecebe616fc",
   "metadata": {},
   "outputs": [
    {
     "name": "stdout",
     "output_type": "stream",
     "text": [
      "(60981881, 4)\n",
      "<bound method NDFrame.head of                                        region  \\\n",
      "0                            chr1:10000-10170   \n",
      "1                            chr1:10050-10220   \n",
      "2                            chr1:10100-10270   \n",
      "3                            chr1:10150-10320   \n",
      "4                            chr1:10200-10370   \n",
      "...                                       ...   \n",
      "114848658  chrY_KI270740v1_random:36850-37020   \n",
      "114848659  chrY_KI270740v1_random:36900-37070   \n",
      "114848660  chrY_KI270740v1_random:36950-37120   \n",
      "114848661  chrY_KI270740v1_random:37000-37170   \n",
      "114848662  chrY_KI270740v1_random:37050-37220   \n",
      "\n",
      "                                                    sequence       N2a  \\\n",
      "0          TAACCCTAACCCTAACCCTAACCCTAACCCTAACCCTAACCCTAAC... -0.007660   \n",
      "1          ACCCTAACCCTAACCCTAACCCTAACCCTAACCCTAACCCTAACCC...  0.066999   \n",
      "2          CCTAACCCAACCCTAACCCTAACCCTAACCCTAACCCTAACCCTAA... -0.068959   \n",
      "3          TAACCCTAACCCTAACCCTAACCCTAACCTAACCCTAACCCTAACC... -0.173480   \n",
      "4          CCCTAACCCTAACCCTAACCCTAACCCTAACCCCTAACCCTAACCC... -0.020042   \n",
      "...                                                      ...       ...   \n",
      "114848658  TTTAGACCTTTAAGGTGAGTGTTACAGCACTGAAAGATGTTATGTC... -0.827126   \n",
      "114848659  GTTTTTTCCTTCAGATATTTCCAGAGTTTCTTCCATCTCGCAGGTT... -0.996833   \n",
      "114848660  GTCTTGGTCACTTCAAGAATGAAGCTGCAGACCTTAGTGGTGAGGG... -0.980638   \n",
      "114848661  AGCACTTAAAGGTGTTATGTCCAGAGTTTTTTCCTACAGATGTGTC... -0.664841   \n",
      "114848662  GTTTCTTCCTTCTGGCGGGTTCATGGTCTTGCTCACTTCAAGAATG... -0.074509   \n",
      "\n",
      "              HepG2  \n",
      "0         -0.100291  \n",
      "1         -0.020488  \n",
      "2         -0.032757  \n",
      "3         -0.073248  \n",
      "4         -0.040499  \n",
      "...             ...  \n",
      "114848658 -1.075787  \n",
      "114848659 -1.064738  \n",
      "114848660 -0.576563  \n",
      "114848661 -0.452260  \n",
      "114848662 -0.248202  \n",
      "\n",
      "[60981881 rows x 4 columns]>\n"
     ]
    }
   ],
   "source": [
    "print(both_human.shape)\n",
    "print(both_human.head)\n",
    "\n",
    "#both_human['N2a'] = pd.to_numeric(both_human['N2a'])\n",
    "#both_human['HepG2'] = pd.to_numeric(both_human['HepG2'])\n",
    "both_human['diff'] = both_human['HepG2'] - both_human['N2a']\n",
    "\n",
    "both_human.to_csv(\"scores/both.hg38.scores.txt\",\n",
    "                                          sep='\\t',\n",
    "                                         index=False)\n",
    "\n"
   ]
  },
  {
   "cell_type": "code",
   "execution_count": 10,
   "id": "25980514-dd3b-4cd8-916c-07a6d1cc88f1",
   "metadata": {},
   "outputs": [
    {
     "name": "stdout",
     "output_type": "stream",
     "text": [
      "['chr10:86804650-86804820', 'chr10:86838700-86838870', 'chr10:86866250-86866420']\n"
     ]
    }
   ],
   "source": [
    "diff_file = open(\"scores/results2both.4_rep_seq_human.list\",'r')\n",
    "diff_seqs = [x.strip() for x in diff_file.read().splitlines()]\n",
    "\n",
    "print(diff_seqs[1:4])"
   ]
  },
  {
   "cell_type": "code",
   "execution_count": 11,
   "id": "509007ac-978b-405e-aa96-505e81eb8457",
   "metadata": {},
   "outputs": [
    {
     "name": "stdout",
     "output_type": "stream",
     "text": [
      "(63965, 5)\n"
     ]
    }
   ],
   "source": [
    "both_human_diff = (both_human\n",
    "                   .query(\"region in @diff_seqs\"))\n",
    "print(both_human_diff.shape)"
   ]
  },
  {
   "cell_type": "code",
   "execution_count": 12,
   "id": "3eeee42b-4969-4af0-8971-f06f6a691f59",
   "metadata": {},
   "outputs": [
    {
     "data": {
      "text/plain": [
       "24"
      ]
     },
     "execution_count": 12,
     "metadata": {},
     "output_type": "execute_result"
    }
   ],
   "source": [
    "del both_human\n",
    "gc.collect()"
   ]
  },
  {
   "cell_type": "code",
   "execution_count": 38,
   "id": "93eba1e6-28ee-45ff-a0d7-2aefe8540387",
   "metadata": {},
   "outputs": [
    {
     "name": "stdout",
     "output_type": "stream",
     "text": [
      "(6441, 5)\n"
     ]
    }
   ],
   "source": [
    "both_human_keep = pd.DataFrame(columns=both_human_diff.columns)\n",
    "\n",
    "for i in range(-10,0):\n",
    "    #print(i)\n",
    "    for j in range(-10,0):\n",
    "        keep_rows = ( both_human_diff\n",
    "                                  .query(\"@i < N2a <= @i+1\")\n",
    "                                  .query(\"@j < HepG2 <= @j+1\") )\n",
    "        if len(keep_rows) > 0:\n",
    "            #print(j)\n",
    "            #print(keep_rows.head)\n",
    "            both_human_keep = both_human_keep.append( keep_rows\n",
    "                                   .sample(min(200,len(keep_rows)), \n",
    "                                               replace=False) )\n",
    "    for j in range(0,11):\n",
    "        keep_rows = ( both_human_diff\n",
    "                                  .query(\"@i < N2a <= @i+1\")\n",
    "                                  .query(\"@j < HepG2 <= @j+1\") )\n",
    "        if len(keep_rows) > 0:\n",
    "            #print(j)\n",
    "            #print(keep_rows.head)\n",
    "            both_human_keep = both_human_keep.append( keep_rows\n",
    "                                   .sample(min(1000,len(keep_rows)), \n",
    "                                               replace=False) )\n",
    "\n",
    "for i in range(0,11):\n",
    "    #print(i)\n",
    "    for j in range(-10,0):\n",
    "        keep_rows = ( both_human_diff\n",
    "                                  .query(\"@i < N2a <= @i+1\")\n",
    "                                  .query(\"@j < HepG2 <= @j+1\") )\n",
    "        if len(keep_rows) > 0:\n",
    "            #print(j)\n",
    "            #print(keep_rows.head)\n",
    "            both_human_keep = both_human_keep.append( keep_rows\n",
    "                                   .sample(min(1000,len(keep_rows)), \n",
    "                                               replace=False) )\n",
    "    for j in range(0,11):\n",
    "        keep_rows = ( both_human_diff\n",
    "                                  .query(\"@i < N2a <= @i+1\")\n",
    "                                  .query(\"@j < HepG2 <= @j+1\") )\n",
    "        if len(keep_rows) > 0:\n",
    "            #print(j)\n",
    "            #print(keep_rows.head)\n",
    "            both_human_keep = both_human_keep.append( keep_rows\n",
    "                                   .sample(min(1000,len(keep_rows)), \n",
    "                                               replace=False) )\n",
    "print(both_human_keep.shape)\n",
    "both_human_keep.to_csv(\"scores/both.hg38.scores.diff_filt.txt\",\n",
    "                                          sep='\\t',\n",
    "                                         index=False)\n",
    "            "
   ]
  },
  {
   "cell_type": "code",
   "execution_count": 35,
   "id": "8a25de55-9cb4-4f51-aea1-857b63c0a79a",
   "metadata": {},
   "outputs": [
    {
     "name": "stdout",
     "output_type": "stream",
     "text": [
      "TTTTTTTTTTTTTTTTTTTTTTTT    5\n",
      "NNNNNNNNNNNNNNNNNNNNNNNN    5\n",
      "GCACTGGGAAATGGTGAAGGGCAC    4\n",
      "GCACTGGGGAATGGTGAGGAGCAC    4\n",
      "ATGGTGAAGGGCACTGGGGAATGG    3\n",
      "                           ..\n",
      "GCTTGAGGCCAGGATGTCGAGACC    1\n",
      "GCCATTATTCAGTTCTCATCTTTC    1\n",
      "CCCAGCACTTTGGGAGACCAAGGC    1\n",
      "CTTCCCTTGTTCAAATCCCCAGAT    1\n",
      "GTGGGTGGTACTGGCTTCTTGCTG    1\n",
      "Name: seq24, Length: 4352, dtype: int64\n",
      "(4381, 6)\n",
      "(4371, 6)\n",
      "TTTTTTTTTTTTTTTTTTTTTTTT    5\n",
      "GCACTGGGGAATGGTGAGGAGCAC    4\n",
      "GCACTGGGAAATGGTGAAGGGCAC    4\n",
      "ATGGTGAGGAGCACTGGGAAATGG    3\n",
      "GCACTGGGGAATGGTGAGAGGCAC    3\n",
      "                           ..\n",
      "CAGCAGCACTAATGGAGGGTCAGA    1\n",
      "GCTTGAGGCCAGGATGTCGAGACC    1\n",
      "GCCATTATTCAGTTCTCATCTTTC    1\n",
      "CCCAGCACTTTGGGAGACCAAGGC    1\n",
      "GTGGGTGGTACTGGCTTCTTGCTG    1\n",
      "Name: seq24, Length: 4346, dtype: int64\n",
      "(4371, 6)\n",
      "(10291, 6)\n"
     ]
    }
   ],
   "source": [
    "both_human_keep['seq24'] = both_human_keep['sequence'].str[:24]\n",
    "print(both_human_keep['seq24'].value_counts())\n",
    "\n",
    "#print(both_human_keep[both_human_keep[\"sequence\"].str.contains(\"N\")].head)\n",
    "print(both_human_keep.shape)\n",
    "print(both_human_keep[~both_human_keep[\"sequence\"].str.contains(\"N\")].shape)\n",
    "both_human_keep = both_human_keep[~both_human_keep[\"sequence\"].str.contains(\"N\")]\n",
    "both_human_keep_filt = (both_human_keep_filt\n",
    "                       .sort_values('diff',ascending=True)\n",
    "                       .drop_duplicates('seq24'))\n",
    "print(both_human_keep['seq24'].value_counts())\n",
    "\n",
    "print(both_human_keep.shape)\n",
    "print(both_human_keep_filt.shape)"
   ]
  },
  {
   "cell_type": "code",
   "execution_count": 36,
   "id": "9705c2aa-80fd-4d04-8a52-d3b7991963b0",
   "metadata": {},
   "outputs": [
    {
     "name": "stdout",
     "output_type": "stream",
     "text": [
      "(4371, 6)\n"
     ]
    },
    {
     "data": {
      "text/plain": [
       "<seaborn.axisgrid.FacetGrid at 0x7ff5a1be5dc0>"
      ]
     },
     "execution_count": 36,
     "metadata": {},
     "output_type": "execute_result"
    },
    {
     "data": {
      "image/png": "[encoded data removed]",
      "text/plain": [
       "<Figure size 360x360 with 1 Axes>"
      ]
     },
     "metadata": {
      "needs_background": "light"
     },
     "output_type": "display_data"
    }
   ],
   "source": [
    "print(both_human_keep.shape)\n",
    "\n",
    "sns.displot(data=both_human_keep,\n",
    "           x='HepG2', y='N2a')"
   ]
  },
  {
   "cell_type": "code",
   "execution_count": 8,
   "id": "74a27d2d-4448-42d4-bc0a-b980cf063163",
   "metadata": {},
   "outputs": [
    {
     "name": "stdout",
     "output_type": "stream",
     "text": [
      "['In', 'Out', '_', '__', '___', '__builtin__', '__builtins__', '__doc__', '__loader__', '__name__', '__package__', '__spec__', '_dh', '_i', '_i1', '_i2', '_i3', '_i4', '_i5', '_i6', '_i7', '_i8', '_ih', '_ii', '_iii', '_oh', 'exit', 'gc', 'get_ipython', 'np', 'os', 'pd', 'plt', 'quit', 'sns']\n"
     ]
    },
    {
     "data": {
      "text/plain": [
       "195"
      ]
     },
     "execution_count": 8,
     "metadata": {},
     "output_type": "execute_result"
    }
   ],
   "source": [
    "print(dir())\n",
    "gc.collect()"
   ]
  },
  {
   "cell_type": "code",
   "execution_count": null,
   "id": "19fc11b2-7c4a-4649-84bc-4890e6cea700",
   "metadata": {},
   "outputs": [],
   "source": []
  }
 ],
 "metadata": {
  "kernelspec": {
   "display_name": "Python 3 (ipykernel)",
   "language": "python",
   "name": "python3"
  },
  "language_info": {
   "codemirror_mode": {
    "name": "ipython",
    "version": 3
   },
   "file_extension": ".py",
   "mimetype": "text/x-python",
   "name": "python",
   "nbconvert_exporter": "python",
   "pygments_lexer": "ipython3",
   "version": "3.8.12"
  }
 },
 "nbformat": 4,
 "nbformat_minor": 5
}
