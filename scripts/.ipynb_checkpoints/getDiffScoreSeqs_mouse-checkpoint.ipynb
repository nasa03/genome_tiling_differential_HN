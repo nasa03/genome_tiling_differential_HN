{
 "cells": [
  {
   "cell_type": "markdown",
   "id": "c49f8604-e765-42f9-a320-3ae3229f63de",
   "metadata": {},
   "source": [
    "# Get scores for diff seqs from mm10"
   ]
  },
  {
   "cell_type": "code",
   "execution_count": 1,
   "id": "80037e26-2940-44fd-a293-f6bba82918d8",
   "metadata": {},
   "outputs": [],
   "source": [
    "import pandas as pd\n",
    "import numpy as np\n",
    "import os\n",
    "import gc\n",
    "\n",
    "import seaborn as sns\n",
    "import matplotlib.pyplot as plt\n",
    "\n",
    "import random\n",
    "\n",
    "os.chdir(\"/home/elise/projects/whole-genome-tiling-predictions/\")"
   ]
  },
  {
   "cell_type": "code",
   "execution_count": 3,
   "id": "a68805fd-d03a-4dab-9843-cd29bfa50b2e",
   "metadata": {},
   "outputs": [
    {
     "name": "stdout",
     "output_type": "stream",
     "text": [
      "reading files...\n",
      "<bound method NDFrame.head of                                                    sequence  prediction  \\\n",
      "0         TTCTGTTTCTATTTTGTGGTTACTTTGAGGAGAGTTGGAATTAGGT...   -4.692825   \n",
      "1         TTTGAAGGTCTGGTAGAACTCTGCATTAAACCCATCTGGTCCTGGG...   -5.157895   \n",
      "2         TTTTTTTTTTTTTTTTTTTTTTTGGGTGGGAGACTATTGATGACTG...   -4.388600   \n",
      "3         TATTTCTTTAGGGGAAATGGGACTTTTAGTCCATGAATCTGATCCT...   -0.664615   \n",
      "4         TAGCTTTGGTACCTGGTATCTGTCTAGGAAGTTGTCCATTTCATCC...   -0.752823   \n",
      "...                                                     ...         ...   \n",
      "53645922  AAGCAAGTGGCAGGAGCCCAAAAGGTCTTTGCATCCTCTCTTTCTC...   -0.984944   \n",
      "53645923  CCATAACTTTCTAATTTTCCCAATCCCCACATTCATTCAAAAATTC...   -0.666968   \n",
      "53645924  GTTCAAAAAATACAGAGACTCATTCATCATCTTTACTTTGTGCTTC...   -0.138928   \n",
      "53645925  CTGGTTGCAATTATCTTGTAAGCATTAAAATTCAGGCTAACATACT...   -0.892153   \n",
      "53645926  ATGTTCAATAGGGTTTCATTGATGTGAAGAGATATCATGACTCAGG...   -0.624606   \n",
      "\n",
      "                                      region  \n",
      "0                       chr1:3000000-3000170  \n",
      "1                       chr1:3000050-3000220  \n",
      "2                       chr1:3000100-3000270  \n",
      "3                       chr1:3000150-3000320  \n",
      "4                       chr1:3000200-3000370  \n",
      "...                                      ...  \n",
      "53645922  chrY_JH584303_random:157700-157870  \n",
      "53645923  chrY_JH584303_random:157750-157920  \n",
      "53645924  chrY_JH584303_random:157800-157970  \n",
      "53645925  chrY_JH584303_random:157850-158020  \n",
      "53645926  chrY_JH584303_random:157900-158070  \n",
      "\n",
      "[53645927 rows x 3 columns]>\n",
      "<bound method NDFrame.head of                                                    sequence  prediction  \\\n",
      "0         TTCTGTTTCTATTTTGTGGTTACTTTGAGGAGAGTTGGAATTAGGT...   -1.805456   \n",
      "1         TTTGAAGGTCTGGTAGAACTCTGCATTAAACCCATCTGGTCCTGGG...   -2.571884   \n",
      "2         TTTTTTTTTTTTTTTTTTTTTTTGGGTGGGAGACTATTGATGACTG...   -1.964231   \n",
      "3         TATTTCTTTAGGGGAAATGGGACTTTTAGTCCATGAATCTGATCCT...   -0.372115   \n",
      "4         TAGCTTTGGTACCTGGTATCTGTCTAGGAAGTTGTCCATTTCATCC...   -0.476924   \n",
      "...                                                     ...         ...   \n",
      "53180474  AAGCAAGTGGCAGGAGCCCAAAAGGTCTTTGCATCCTCTCTTTCTC...   -0.433901   \n",
      "53180475  CCATAACTTTCTAATTTTCCCAATCCCCACATTCATTCAAAAATTC...   -0.260620   \n",
      "53180476  GTTCAAAAAATACAGAGACTCATTCATCATCTTTACTTTGTGCTTC...    0.300503   \n",
      "53180477  CTGGTTGCAATTATCTTGTAAGCATTAAAATTCAGGCTAACATACT...   -1.393579   \n",
      "53180478  ATGTTCAATAGGGTTTCATTGATGTGAAGAGATATCATGACTCAGG...   -0.462048   \n",
      "\n",
      "                                      region  \n",
      "0                       chr1:3000000-3000170  \n",
      "1                       chr1:3000050-3000220  \n",
      "2                       chr1:3000100-3000270  \n",
      "3                       chr1:3000150-3000320  \n",
      "4                       chr1:3000200-3000370  \n",
      "...                                      ...  \n",
      "53180474  chrY_JH584303_random:157700-157870  \n",
      "53180475  chrY_JH584303_random:157750-157920  \n",
      "53180476  chrY_JH584303_random:157800-157970  \n",
      "53180477  chrY_JH584303_random:157850-158020  \n",
      "53180478  chrY_JH584303_random:157900-158070  \n",
      "\n",
      "[53180479 rows x 3 columns]>\n"
     ]
    }
   ],
   "source": [
    "\n",
    "print(\"reading files...\")\n",
    "\n",
    "N2a_mouse = pd.read_csv(\"scores/PB-PY-0011.mm10.scores.txt\",\n",
    "                       sep='\\t').filter(['sequence','prediction','region'])\n",
    "N2a_mouse['prediction'] = pd.to_numeric(N2a_mouse['prediction'])\n",
    "print(N2a_mouse.head)\n",
    "\n",
    "\n",
    "HepG2_mouse = pd.read_csv(\"scores/PB-PY-0012.mm10.scores.txt\",\n",
    "                       sep='\\t').filter(['sequence','prediction','region'])\n",
    "HepG2_mouse['prediction'] = pd.to_numeric(HepG2_mouse['prediction'])\n",
    "print(HepG2_mouse.head)\n",
    "\n"
   ]
  },
  {
   "cell_type": "code",
   "execution_count": 4,
   "id": "6609b102-0325-4f4b-b033-22106bcd327d",
   "metadata": {},
   "outputs": [],
   "source": [
    "\n",
    "both_mouse = (N2a_mouse\n",
    "                  .rename(columns={'prediction':'N2a'})\n",
    "                  .filter(['region','sequence','N2a'])\n",
    "                  .merge(HepG2_mouse\n",
    "                         .rename(columns={'prediction':'HepG2'})\n",
    "                         .filter(['region','sequence','HepG2']),\n",
    "                                  on=('region','sequence'))\n",
    "                  .drop_duplicates() )\n",
    "#              .assign(diff=lambda x: x['HepG2']-x['N2a']) )\n"
   ]
  },
  {
   "cell_type": "code",
   "execution_count": 5,
   "id": "80f0cfde-ef37-4050-bf0e-ccbbf06b27c7",
   "metadata": {},
   "outputs": [
    {
     "name": "stdout",
     "output_type": "stream",
     "text": [
      "(53645927, 3)\n",
      "(53180479, 3)\n",
      "(53053843, 4)\n"
     ]
    },
    {
     "ename": "KeyboardInterrupt",
     "evalue": "",
     "output_type": "error",
     "traceback": [
      "\u001b[0;31m---------------------------------------------------------------------------\u001b[0m",
      "\u001b[0;31mKeyboardInterrupt\u001b[0m                         Traceback (most recent call last)",
      "\u001b[0;32m/tmp/ipykernel_1106578/3241057560.py\u001b[0m in \u001b[0;36m<module>\u001b[0;34m\u001b[0m\n\u001b[1;32m      2\u001b[0m \u001b[0mprint\u001b[0m\u001b[0;34m(\u001b[0m\u001b[0mHepG2_mouse\u001b[0m\u001b[0;34m.\u001b[0m\u001b[0mshape\u001b[0m\u001b[0;34m)\u001b[0m\u001b[0;34m\u001b[0m\u001b[0;34m\u001b[0m\u001b[0m\n\u001b[1;32m      3\u001b[0m \u001b[0mprint\u001b[0m\u001b[0;34m(\u001b[0m\u001b[0mboth_mouse\u001b[0m\u001b[0;34m.\u001b[0m\u001b[0mshape\u001b[0m\u001b[0;34m)\u001b[0m\u001b[0;34m\u001b[0m\u001b[0;34m\u001b[0m\u001b[0m\n\u001b[0;32m----> 4\u001b[0;31m \u001b[0mprint\u001b[0m\u001b[0;34m(\u001b[0m\u001b[0mboth_mouse\u001b[0m\u001b[0;34m.\u001b[0m\u001b[0mdrop_duplicates\u001b[0m\u001b[0;34m(\u001b[0m\u001b[0;34m)\u001b[0m\u001b[0;34m.\u001b[0m\u001b[0mshape\u001b[0m\u001b[0;34m)\u001b[0m\u001b[0;34m\u001b[0m\u001b[0;34m\u001b[0m\u001b[0m\n\u001b[0m",
      "\u001b[0;32m~/miniconda3/envs/pythia/lib/python3.8/site-packages/pandas/core/frame.py\u001b[0m in \u001b[0;36mdrop_duplicates\u001b[0;34m(self, subset, keep, inplace, ignore_index)\u001b[0m\n\u001b[1;32m   5266\u001b[0m         \u001b[0minplace\u001b[0m \u001b[0;34m=\u001b[0m \u001b[0mvalidate_bool_kwarg\u001b[0m\u001b[0;34m(\u001b[0m\u001b[0minplace\u001b[0m\u001b[0;34m,\u001b[0m \u001b[0;34m\"inplace\"\u001b[0m\u001b[0;34m)\u001b[0m\u001b[0;34m\u001b[0m\u001b[0;34m\u001b[0m\u001b[0m\n\u001b[1;32m   5267\u001b[0m         \u001b[0mignore_index\u001b[0m \u001b[0;34m=\u001b[0m \u001b[0mvalidate_bool_kwarg\u001b[0m\u001b[0;34m(\u001b[0m\u001b[0mignore_index\u001b[0m\u001b[0;34m,\u001b[0m \u001b[0;34m\"ignore_index\"\u001b[0m\u001b[0;34m)\u001b[0m\u001b[0;34m\u001b[0m\u001b[0;34m\u001b[0m\u001b[0m\n\u001b[0;32m-> 5268\u001b[0;31m         \u001b[0mduplicated\u001b[0m \u001b[0;34m=\u001b[0m \u001b[0mself\u001b[0m\u001b[0;34m.\u001b[0m\u001b[0mduplicated\u001b[0m\u001b[0;34m(\u001b[0m\u001b[0msubset\u001b[0m\u001b[0;34m,\u001b[0m \u001b[0mkeep\u001b[0m\u001b[0;34m=\u001b[0m\u001b[0mkeep\u001b[0m\u001b[0;34m)\u001b[0m\u001b[0;34m\u001b[0m\u001b[0;34m\u001b[0m\u001b[0m\n\u001b[0m\u001b[1;32m   5269\u001b[0m \u001b[0;34m\u001b[0m\u001b[0m\n\u001b[1;32m   5270\u001b[0m         \u001b[0mresult\u001b[0m \u001b[0;34m=\u001b[0m \u001b[0mself\u001b[0m\u001b[0;34m[\u001b[0m\u001b[0;34m-\u001b[0m\u001b[0mduplicated\u001b[0m\u001b[0;34m]\u001b[0m\u001b[0;34m\u001b[0m\u001b[0;34m\u001b[0m\u001b[0m\n",
      "\u001b[0;32m~/miniconda3/envs/pythia/lib/python3.8/site-packages/pandas/core/frame.py\u001b[0m in \u001b[0;36mduplicated\u001b[0;34m(self, subset, keep)\u001b[0m\n\u001b[1;32m   5403\u001b[0m \u001b[0;34m\u001b[0m\u001b[0m\n\u001b[1;32m   5404\u001b[0m         \u001b[0mvals\u001b[0m \u001b[0;34m=\u001b[0m \u001b[0;34m(\u001b[0m\u001b[0mcol\u001b[0m\u001b[0;34m.\u001b[0m\u001b[0mvalues\u001b[0m \u001b[0;32mfor\u001b[0m \u001b[0mname\u001b[0m\u001b[0;34m,\u001b[0m \u001b[0mcol\u001b[0m \u001b[0;32min\u001b[0m \u001b[0mself\u001b[0m\u001b[0;34m.\u001b[0m\u001b[0mitems\u001b[0m\u001b[0;34m(\u001b[0m\u001b[0;34m)\u001b[0m \u001b[0;32mif\u001b[0m \u001b[0mname\u001b[0m \u001b[0;32min\u001b[0m \u001b[0msubset\u001b[0m\u001b[0;34m)\u001b[0m\u001b[0;34m\u001b[0m\u001b[0;34m\u001b[0m\u001b[0m\n\u001b[0;32m-> 5405\u001b[0;31m         \u001b[0mlabels\u001b[0m\u001b[0;34m,\u001b[0m \u001b[0mshape\u001b[0m \u001b[0;34m=\u001b[0m \u001b[0mmap\u001b[0m\u001b[0;34m(\u001b[0m\u001b[0mlist\u001b[0m\u001b[0;34m,\u001b[0m \u001b[0mzip\u001b[0m\u001b[0;34m(\u001b[0m\u001b[0;34m*\u001b[0m\u001b[0mmap\u001b[0m\u001b[0;34m(\u001b[0m\u001b[0mf\u001b[0m\u001b[0;34m,\u001b[0m \u001b[0mvals\u001b[0m\u001b[0;34m)\u001b[0m\u001b[0;34m)\u001b[0m\u001b[0;34m)\u001b[0m\u001b[0;34m\u001b[0m\u001b[0;34m\u001b[0m\u001b[0m\n\u001b[0m\u001b[1;32m   5406\u001b[0m \u001b[0;34m\u001b[0m\u001b[0m\n\u001b[1;32m   5407\u001b[0m         \u001b[0mids\u001b[0m \u001b[0;34m=\u001b[0m \u001b[0mget_group_index\u001b[0m\u001b[0;34m(\u001b[0m\u001b[0mlabels\u001b[0m\u001b[0;34m,\u001b[0m \u001b[0mshape\u001b[0m\u001b[0;34m,\u001b[0m \u001b[0msort\u001b[0m\u001b[0;34m=\u001b[0m\u001b[0;32mFalse\u001b[0m\u001b[0;34m,\u001b[0m \u001b[0mxnull\u001b[0m\u001b[0;34m=\u001b[0m\u001b[0;32mFalse\u001b[0m\u001b[0;34m)\u001b[0m\u001b[0;34m\u001b[0m\u001b[0;34m\u001b[0m\u001b[0m\n",
      "\u001b[0;32m~/miniconda3/envs/pythia/lib/python3.8/site-packages/pandas/core/frame.py\u001b[0m in \u001b[0;36mf\u001b[0;34m(vals)\u001b[0m\n\u001b[1;32m   5377\u001b[0m \u001b[0;34m\u001b[0m\u001b[0m\n\u001b[1;32m   5378\u001b[0m         \u001b[0;32mdef\u001b[0m \u001b[0mf\u001b[0m\u001b[0;34m(\u001b[0m\u001b[0mvals\u001b[0m\u001b[0;34m)\u001b[0m\u001b[0;34m:\u001b[0m\u001b[0;34m\u001b[0m\u001b[0;34m\u001b[0m\u001b[0m\n\u001b[0;32m-> 5379\u001b[0;31m             labels, shape = algorithms.factorize(\n\u001b[0m\u001b[1;32m   5380\u001b[0m                 \u001b[0mvals\u001b[0m\u001b[0;34m,\u001b[0m \u001b[0msize_hint\u001b[0m\u001b[0;34m=\u001b[0m\u001b[0mmin\u001b[0m\u001b[0;34m(\u001b[0m\u001b[0mlen\u001b[0m\u001b[0;34m(\u001b[0m\u001b[0mself\u001b[0m\u001b[0;34m)\u001b[0m\u001b[0;34m,\u001b[0m \u001b[0mSIZE_HINT_LIMIT\u001b[0m\u001b[0;34m)\u001b[0m\u001b[0;34m\u001b[0m\u001b[0;34m\u001b[0m\u001b[0m\n\u001b[1;32m   5381\u001b[0m             )\n",
      "\u001b[0;32m~/miniconda3/envs/pythia/lib/python3.8/site-packages/pandas/core/algorithms.py\u001b[0m in \u001b[0;36mfactorize\u001b[0;34m(values, sort, na_sentinel, size_hint)\u001b[0m\n\u001b[1;32m    720\u001b[0m             \u001b[0mna_value\u001b[0m \u001b[0;34m=\u001b[0m \u001b[0;32mNone\u001b[0m\u001b[0;34m\u001b[0m\u001b[0;34m\u001b[0m\u001b[0m\n\u001b[1;32m    721\u001b[0m \u001b[0;34m\u001b[0m\u001b[0m\n\u001b[0;32m--> 722\u001b[0;31m         codes, uniques = factorize_array(\n\u001b[0m\u001b[1;32m    723\u001b[0m             \u001b[0mvalues\u001b[0m\u001b[0;34m,\u001b[0m \u001b[0mna_sentinel\u001b[0m\u001b[0;34m=\u001b[0m\u001b[0mna_sentinel\u001b[0m\u001b[0;34m,\u001b[0m \u001b[0msize_hint\u001b[0m\u001b[0;34m=\u001b[0m\u001b[0msize_hint\u001b[0m\u001b[0;34m,\u001b[0m \u001b[0mna_value\u001b[0m\u001b[0;34m=\u001b[0m\u001b[0mna_value\u001b[0m\u001b[0;34m\u001b[0m\u001b[0;34m\u001b[0m\u001b[0m\n\u001b[1;32m    724\u001b[0m         )\n",
      "\u001b[0;32m~/miniconda3/envs/pythia/lib/python3.8/site-packages/pandas/core/algorithms.py\u001b[0m in \u001b[0;36mfactorize_array\u001b[0;34m(values, na_sentinel, size_hint, na_value, mask)\u001b[0m\n\u001b[1;32m    526\u001b[0m \u001b[0;34m\u001b[0m\u001b[0m\n\u001b[1;32m    527\u001b[0m     \u001b[0mtable\u001b[0m \u001b[0;34m=\u001b[0m \u001b[0mhash_klass\u001b[0m\u001b[0;34m(\u001b[0m\u001b[0msize_hint\u001b[0m \u001b[0;32mor\u001b[0m \u001b[0mlen\u001b[0m\u001b[0;34m(\u001b[0m\u001b[0mvalues\u001b[0m\u001b[0;34m)\u001b[0m\u001b[0;34m)\u001b[0m\u001b[0;34m\u001b[0m\u001b[0;34m\u001b[0m\u001b[0m\n\u001b[0;32m--> 528\u001b[0;31m     uniques, codes = table.factorize(\n\u001b[0m\u001b[1;32m    529\u001b[0m         \u001b[0mvalues\u001b[0m\u001b[0;34m,\u001b[0m \u001b[0mna_sentinel\u001b[0m\u001b[0;34m=\u001b[0m\u001b[0mna_sentinel\u001b[0m\u001b[0;34m,\u001b[0m \u001b[0mna_value\u001b[0m\u001b[0;34m=\u001b[0m\u001b[0mna_value\u001b[0m\u001b[0;34m,\u001b[0m \u001b[0mmask\u001b[0m\u001b[0;34m=\u001b[0m\u001b[0mmask\u001b[0m\u001b[0;34m\u001b[0m\u001b[0;34m\u001b[0m\u001b[0m\n\u001b[1;32m    530\u001b[0m     )\n",
      "\u001b[0;32mpandas/_libs/hashtable_class_helper.pxi\u001b[0m in \u001b[0;36mpandas._libs.hashtable.StringHashTable.factorize\u001b[0;34m()\u001b[0m\n",
      "\u001b[0;32mpandas/_libs/hashtable_class_helper.pxi\u001b[0m in \u001b[0;36mpandas._libs.hashtable.StringHashTable._unique\u001b[0;34m()\u001b[0m\n",
      "\u001b[0;32m~/miniconda3/envs/pythia/lib/python3.8/site-packages/numpy/core/_asarray.py\u001b[0m in \u001b[0;36masarray\u001b[0;34m(a, dtype, order)\u001b[0m\n\u001b[1;32m     12\u001b[0m ]\n\u001b[1;32m     13\u001b[0m \u001b[0;34m\u001b[0m\u001b[0m\n\u001b[0;32m---> 14\u001b[0;31m \u001b[0;34m@\u001b[0m\u001b[0mset_module\u001b[0m\u001b[0;34m(\u001b[0m\u001b[0;34m'numpy'\u001b[0m\u001b[0;34m)\u001b[0m\u001b[0;34m\u001b[0m\u001b[0;34m\u001b[0m\u001b[0m\n\u001b[0m\u001b[1;32m     15\u001b[0m \u001b[0;32mdef\u001b[0m \u001b[0masarray\u001b[0m\u001b[0;34m(\u001b[0m\u001b[0ma\u001b[0m\u001b[0;34m,\u001b[0m \u001b[0mdtype\u001b[0m\u001b[0;34m=\u001b[0m\u001b[0;32mNone\u001b[0m\u001b[0;34m,\u001b[0m \u001b[0morder\u001b[0m\u001b[0;34m=\u001b[0m\u001b[0;32mNone\u001b[0m\u001b[0;34m)\u001b[0m\u001b[0;34m:\u001b[0m\u001b[0;34m\u001b[0m\u001b[0;34m\u001b[0m\u001b[0m\n\u001b[1;32m     16\u001b[0m     \"\"\"Convert the input to an array.\n",
      "\u001b[0;31mKeyboardInterrupt\u001b[0m: "
     ]
    }
   ],
   "source": [
    "print(N2a_mouse.shape)\n",
    "print(HepG2_mouse.shape)\n",
    "print(both_mouse.shape)\n",
    "#print(both_mouse.drop_duplicates().shape)"
   ]
  },
  {
   "cell_type": "code",
   "execution_count": 6,
   "id": "d0ecb31c-fc88-4e6f-aa9b-5bf8fdec67bf",
   "metadata": {},
   "outputs": [
    {
     "data": {
      "text/plain": [
       "31"
      ]
     },
     "execution_count": 6,
     "metadata": {},
     "output_type": "execute_result"
    }
   ],
   "source": [
    "del N2a_mouse\n",
    "del HepG2_mouse\n",
    "gc.collect()"
   ]
  },
  {
   "cell_type": "code",
   "execution_count": 7,
   "id": "aa14af84-660d-467a-a31d-11ecebe616fc",
   "metadata": {},
   "outputs": [
    {
     "name": "stdout",
     "output_type": "stream",
     "text": [
      "(53053843, 4)\n",
      "<bound method NDFrame.head of                                       region  \\\n",
      "0                       chr1:3000000-3000170   \n",
      "1                       chr1:3000050-3000220   \n",
      "2                       chr1:3000100-3000270   \n",
      "3                       chr1:3000150-3000320   \n",
      "4                       chr1:3000200-3000370   \n",
      "...                                      ...   \n",
      "54371510  chrY_JH584303_random:157700-157870   \n",
      "54371511  chrY_JH584303_random:157750-157920   \n",
      "54371512  chrY_JH584303_random:157800-157970   \n",
      "54371513  chrY_JH584303_random:157850-158020   \n",
      "54371514  chrY_JH584303_random:157900-158070   \n",
      "\n",
      "                                                   sequence       N2a  \\\n",
      "0         TTCTGTTTCTATTTTGTGGTTACTTTGAGGAGAGTTGGAATTAGGT... -4.692825   \n",
      "1         TTTGAAGGTCTGGTAGAACTCTGCATTAAACCCATCTGGTCCTGGG... -5.157895   \n",
      "2         TTTTTTTTTTTTTTTTTTTTTTTGGGTGGGAGACTATTGATGACTG... -4.388600   \n",
      "3         TATTTCTTTAGGGGAAATGGGACTTTTAGTCCATGAATCTGATCCT... -0.664615   \n",
      "4         TAGCTTTGGTACCTGGTATCTGTCTAGGAAGTTGTCCATTTCATCC... -0.752823   \n",
      "...                                                     ...       ...   \n",
      "54371510  AAGCAAGTGGCAGGAGCCCAAAAGGTCTTTGCATCCTCTCTTTCTC... -0.984944   \n",
      "54371511  CCATAACTTTCTAATTTTCCCAATCCCCACATTCATTCAAAAATTC... -0.666968   \n",
      "54371512  GTTCAAAAAATACAGAGACTCATTCATCATCTTTACTTTGTGCTTC... -0.138928   \n",
      "54371513  CTGGTTGCAATTATCTTGTAAGCATTAAAATTCAGGCTAACATACT... -0.892153   \n",
      "54371514  ATGTTCAATAGGGTTTCATTGATGTGAAGAGATATCATGACTCAGG... -0.624606   \n",
      "\n",
      "             HepG2  \n",
      "0        -1.805456  \n",
      "1        -2.571884  \n",
      "2        -1.964231  \n",
      "3        -0.372115  \n",
      "4        -0.476924  \n",
      "...            ...  \n",
      "54371510 -0.433901  \n",
      "54371511 -0.260620  \n",
      "54371512  0.300503  \n",
      "54371513 -1.393579  \n",
      "54371514 -0.462048  \n",
      "\n",
      "[53053843 rows x 4 columns]>\n"
     ]
    }
   ],
   "source": [
    "print(both_mouse.shape)\n",
    "print(both_mouse.head)\n",
    "\n",
    "#both_mouse['N2a'] = pd.to_numeric(both_mouse['N2a'])\n",
    "#both_mouse['HepG2'] = pd.to_numeric(both_mouse['HepG2'])\n",
    "both_mouse['diff'] = both_mouse['HepG2'] - both_mouse['N2a']\n",
    "\n",
    "both_mouse.to_csv(\"scores/both.mm10.scores.txt\",\n",
    "                                          sep='\\t',\n",
    "                                         index=False)\n",
    "\n"
   ]
  },
  {
   "cell_type": "code",
   "execution_count": 10,
   "id": "25980514-dd3b-4cd8-916c-07a6d1cc88f1",
   "metadata": {},
   "outputs": [
    {
     "name": "stdout",
     "output_type": "stream",
     "text": [
      "['chr1:3063250-3063420', 'chr1:3189400-3189570', 'chr1:3210750-3210920']\n"
     ]
    }
   ],
   "source": [
    "diff_file = open(\"scores/results2both.4_rep_seq_mouse.list\",'r')\n",
    "diff_seqs = [x.strip() for x in diff_file.read().splitlines()]\n",
    "\n",
    "print(diff_seqs[1:4])"
   ]
  },
  {
   "cell_type": "code",
   "execution_count": 11,
   "id": "509007ac-978b-405e-aa96-505e81eb8457",
   "metadata": {},
   "outputs": [
    {
     "name": "stdout",
     "output_type": "stream",
     "text": [
      "(57111, 5)\n"
     ]
    }
   ],
   "source": [
    "both_mouse_diff = (both_mouse\n",
    "                   .query(\"region in @diff_seqs\"))\n",
    "print(both_mouse_diff.shape)"
   ]
  },
  {
   "cell_type": "code",
   "execution_count": 12,
   "id": "3eeee42b-4969-4af0-8971-f06f6a691f59",
   "metadata": {},
   "outputs": [
    {
     "data": {
      "text/plain": [
       "275"
      ]
     },
     "execution_count": 12,
     "metadata": {},
     "output_type": "execute_result"
    }
   ],
   "source": [
    "del both_mouse\n",
    "gc.collect()"
   ]
  },
  {
   "cell_type": "code",
   "execution_count": 27,
   "id": "93eba1e6-28ee-45ff-a0d7-2aefe8540387",
   "metadata": {},
   "outputs": [
    {
     "name": "stdout",
     "output_type": "stream",
     "text": [
      "(6973, 5)\n"
     ]
    }
   ],
   "source": [
    "both_mouse_keep = pd.DataFrame(columns=both_mouse_diff.columns)\n",
    "\n",
    "for i in range(-10,0):\n",
    "    #print(i)\n",
    "    for j in range(-10,0):\n",
    "        keep_rows = ( both_mouse_diff\n",
    "                                  .query(\"@i < N2a <= @i+1\")\n",
    "                                  .query(\"@j < HepG2 <= @j+1\") )\n",
    "        if len(keep_rows) > 0:\n",
    "            #print(j)\n",
    "            #print(keep_rows.head)\n",
    "            both_mouse_keep = both_mouse_keep.append( keep_rows\n",
    "                                   .sample(min(200,len(keep_rows)), \n",
    "                                               replace=False) )\n",
    "    for j in range(0,11):\n",
    "        keep_rows = ( both_mouse_diff\n",
    "                                  .query(\"@i < N2a <= @i+1\")\n",
    "                                  .query(\"@j < HepG2 <= @j+1\") )\n",
    "        if len(keep_rows) > 0:\n",
    "            #print(j)\n",
    "            #print(keep_rows.head)\n",
    "            both_mouse_keep = both_mouse_keep.append( keep_rows\n",
    "                                   .sample(min(1000,len(keep_rows)), \n",
    "                                               replace=False) )\n",
    "\n",
    "for i in range(0,11):\n",
    "    #print(i)\n",
    "    for j in range(-10,0):\n",
    "        keep_rows = ( both_mouse_diff\n",
    "                                  .query(\"@i < N2a <= @i+1\")\n",
    "                                  .query(\"@j < HepG2 <= @j+1\") )\n",
    "        if len(keep_rows) > 0:\n",
    "            #print(j)\n",
    "            #print(keep_rows.head)\n",
    "            both_mouse_keep = both_mouse_keep.append( keep_rows\n",
    "                                   .sample(min(1000,len(keep_rows)), \n",
    "                                               replace=False) )\n",
    "    for j in range(0,11):\n",
    "        keep_rows = ( both_mouse_diff\n",
    "                                  .query(\"@i < N2a <= @i+1\")\n",
    "                                  .query(\"@j < HepG2 <= @j+1\") )\n",
    "        if len(keep_rows) > 0:\n",
    "            #print(j)\n",
    "            #print(keep_rows.head)\n",
    "            both_mouse_keep = both_mouse_keep.append( keep_rows\n",
    "                                   .sample(min(1000,len(keep_rows)), \n",
    "                                               replace=False) )\n",
    "print(both_mouse_keep.shape)\n",
    "both_mouse_keep.to_csv(\"scores/both.mm10.scores.diff_filt.txt\",\n",
    "                                          sep='\\t',\n",
    "                                         index=False)\n"
   ]
  },
  {
   "cell_type": "code",
   "execution_count": 25,
   "id": "e37a268d-227d-486b-8529-1df52653365f",
   "metadata": {},
   "outputs": [
    {
     "name": "stdout",
     "output_type": "stream",
     "text": [
      "GGAGGAGGAGGAGGAGGAGGAGGA    31\n",
      "GAGGAGGAGGAGGAGGAGGAGGAG    26\n",
      "AGGAGGAGGAGGAGGAGGAGGAGG    24\n",
      "AGAAGAAGAAGAAGAAGAAGAAGA    11\n",
      "GGCAGGCAGGCAGGCAGGCAGGCA     9\n",
      "                            ..\n",
      "ATGCAGGTGGAGTGTGGTGAGTTC     1\n",
      "TGGCCTTGTTGGACATCAGTGGGA     1\n",
      "GTTCAAAACCATAGCAACTCGGAG     1\n",
      "TAAGTAAAAATATAAAATTAAATT     1\n",
      "GGTAATAGGCAGGAAGGCAAAACT     1\n",
      "Name: seq24, Length: 4813, dtype: int64\n",
      "(5049, 6)\n",
      "(4813, 6)\n"
     ]
    }
   ],
   "source": [
    "both_mouse_keep['seq24'] = both_mouse_keep['sequence'].str[:24]\n",
    "print(both_mouse_keep['seq24'].value_counts())\n",
    "\n",
    "both_mouse_keep_filt = (both_mouse_keep\n",
    "                       .sort_values('diff',ascending=True)\n",
    "                       .drop_duplicates('seq24'))\n",
    "\n",
    "print(both_mouse_keep.shape)\n",
    "print(both_mouse_keep_filt.shape)"
   ]
  },
  {
   "cell_type": "code",
   "execution_count": 26,
   "id": "9705c2aa-80fd-4d04-8a52-d3b7991963b0",
   "metadata": {},
   "outputs": [
    {
     "name": "stdout",
     "output_type": "stream",
     "text": [
      "(5049, 6)\n"
     ]
    },
    {
     "data": {
      "text/plain": [
       "<seaborn.axisgrid.FacetGrid at 0x7f2487cddfa0>"
      ]
     },
     "execution_count": 26,
     "metadata": {},
     "output_type": "execute_result"
    },
    {
     "data": {
      "image/png": "[encoded data removed]",
      "text/plain": [
       "<Figure size 360x360 with 1 Axes>"
      ]
     },
     "metadata": {
      "needs_background": "light"
     },
     "output_type": "display_data"
    }
   ],
   "source": [
    "print(both_mouse_keep.shape)\n",
    "\n",
    "sns.displot(data=both_mouse_keep,\n",
    "           x='HepG2', y='N2a')"
   ]
  },
  {
   "cell_type": "code",
   "execution_count": 23,
   "id": "74a27d2d-4448-42d4-bc0a-b980cf063163",
   "metadata": {},
   "outputs": [
    {
     "name": "stdout",
     "output_type": "stream",
     "text": [
      "['In', 'Out', '_', '_12', '_14', '_6', '__', '___', '__builtin__', '__builtins__', '__doc__', '__loader__', '__name__', '__package__', '__spec__', '_dh', '_i', '_i1', '_i10', '_i11', '_i12', '_i13', '_i14', '_i15', '_i16', '_i17', '_i18', '_i19', '_i2', '_i20', '_i21', '_i22', '_i23', '_i3', '_i4', '_i5', '_i6', '_i7', '_i8', '_i9', '_ih', '_ii', '_iii', '_oh', 'both_mouse_diff', 'both_mouse_keep', 'both_mouse_keep_filt', 'diff_file', 'diff_seqs', 'exit', 'gc', 'get_ipython', 'i', 'j', 'keep_rows', 'np', 'os', 'pd', 'plt', 'quit', 'random', 'sns']\n"
     ]
    },
    {
     "data": {
      "text/plain": [
       "19457"
      ]
     },
     "execution_count": 23,
     "metadata": {},
     "output_type": "execute_result"
    }
   ],
   "source": [
    "print(dir())\n",
    "gc.collect()"
   ]
  },
  {
   "cell_type": "code",
   "execution_count": null,
   "id": "19fc11b2-7c4a-4649-84bc-4890e6cea700",
   "metadata": {},
   "outputs": [],
   "source": []
  }
 ],
 "metadata": {
  "kernelspec": {
   "display_name": "Python 3 (ipykernel)",
   "language": "python",
   "name": "python3"
  },
  "language_info": {
   "codemirror_mode": {
    "name": "ipython",
    "version": 3
   },
   "file_extension": ".py",
   "mimetype": "text/x-python",
   "name": "python",
   "nbconvert_exporter": "python",
   "pygments_lexer": "ipython3",
   "version": "3.8.12"
  }
 },
 "nbformat": 4,
 "nbformat_minor": 5
}
