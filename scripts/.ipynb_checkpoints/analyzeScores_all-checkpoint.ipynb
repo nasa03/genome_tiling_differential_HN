{
 "cells": [
  {
   "cell_type": "code",
   "execution_count": 2,
   "id": "80037e26-2940-44fd-a293-f6bba82918d8",
   "metadata": {},
   "outputs": [],
   "source": [
    "import pandas as pd\n",
    "import numpy as np\n",
    "import os\n",
    "import gc\n",
    "\n",
    "os.chdir(\"/home/elise/projects/whole-genome-tiling-predictions/\")"
   ]
  },
  {
   "cell_type": "code",
   "execution_count": 3,
   "id": "a68805fd-d03a-4dab-9843-cd29bfa50b2e",
   "metadata": {},
   "outputs": [
    {
     "name": "stdout",
     "output_type": "stream",
     "text": [
      "reading files...\n",
      "<bound method NDFrame.head of           prediction                     chr    pos\n",
      "0          -0.007660                    chr1  10000\n",
      "1           0.066999                    chr1  10050\n",
      "2          -0.068959                    chr1  10100\n",
      "3          -0.173480                    chr1  10150\n",
      "4          -0.020042                    chr1  10200\n",
      "...              ...                     ...    ...\n",
      "64334862   -0.827126  chrY_KI270740v1_random  36850\n",
      "64334863   -0.996833  chrY_KI270740v1_random  36900\n",
      "64334864   -0.980638  chrY_KI270740v1_random  36950\n",
      "64334865   -0.664841  chrY_KI270740v1_random  37000\n",
      "64334866   -0.074509  chrY_KI270740v1_random  37050\n",
      "\n",
      "[64334867 rows x 3 columns]>\n",
      "<bound method NDFrame.head of           prediction                   chr      pos\n",
      "0          -4.692825                  chr1  3000000\n",
      "1          -5.157895                  chr1  3000050\n",
      "2          -4.388600                  chr1  3000100\n",
      "3          -0.664615                  chr1  3000150\n",
      "4          -0.752823                  chr1  3000200\n",
      "...              ...                   ...      ...\n",
      "53645922   -0.984944  chrY_JH584303_random   157700\n",
      "53645923   -0.666968  chrY_JH584303_random   157750\n",
      "53645924   -0.138928  chrY_JH584303_random   157800\n",
      "53645925   -0.892153  chrY_JH584303_random   157850\n",
      "53645926   -0.624606  chrY_JH584303_random   157900\n",
      "\n",
      "[53645927 rows x 3 columns]>\n",
      "<bound method NDFrame.head of           prediction                     chr    pos\n",
      "0          -0.100291                    chr1  10000\n",
      "1          -0.020488                    chr1  10050\n",
      "2          -0.032757                    chr1  10100\n",
      "3          -0.073248                    chr1  10150\n",
      "4          -0.040499                    chr1  10200\n",
      "...              ...                     ...    ...\n",
      "64334862   -1.075787  chrY_KI270740v1_random  36850\n",
      "64334863   -1.064738  chrY_KI270740v1_random  36900\n",
      "64334864   -0.576563  chrY_KI270740v1_random  36950\n",
      "64334865   -0.452260  chrY_KI270740v1_random  37000\n",
      "64334866   -0.248202  chrY_KI270740v1_random  37050\n",
      "\n",
      "[64334867 rows x 3 columns]>\n",
      "<bound method NDFrame.head of           prediction                   chr      pos\n",
      "0          -1.805456                  chr1  3000000\n",
      "1          -2.571884                  chr1  3000050\n",
      "2          -1.964231                  chr1  3000100\n",
      "3          -0.372115                  chr1  3000150\n",
      "4          -0.476924                  chr1  3000200\n",
      "...              ...                   ...      ...\n",
      "53180474   -0.433901  chrY_JH584303_random   157700\n",
      "53180475   -0.260620  chrY_JH584303_random   157750\n",
      "53180476    0.300503  chrY_JH584303_random   157800\n",
      "53180477   -1.393579  chrY_JH584303_random   157850\n",
      "53180478   -0.462048  chrY_JH584303_random   157900\n",
      "\n",
      "[53180479 rows x 3 columns]>\n"
     ]
    }
   ],
   "source": [
    "\n",
    "print(\"reading files...\")\n",
    "\n",
    "N2a_human = pd.read_csv(\"scores/PB-PY-0011.hg38.scores.min.txt\",\n",
    "                       sep=' ')\n",
    "print(N2a_human.head)\n",
    "\n",
    "\n",
    "N2a_mouse = pd.read_csv(\"scores/PB-PY-0011.mm10.scores.min.txt\",\n",
    "                       sep=' ')\n",
    "print(N2a_mouse.head)\n",
    "\n",
    "\n",
    "HepG2_human = pd.read_csv(\"scores/PB-PY-0012.hg38.scores.min.txt\",\n",
    "                       sep=' ')\n",
    "print(HepG2_human.head)\n",
    "\n",
    "\n",
    "HepG2_mouse = pd.read_csv(\"scores/PB-PY-0012.mm10.scores.min.txt\",\n",
    "                       sep=' ')\n",
    "print(HepG2_mouse.head)"
   ]
  },
  {
   "cell_type": "code",
   "execution_count": 4,
   "id": "9aa088fe-68e1-4d5a-8729-00d1ab4720e3",
   "metadata": {},
   "outputs": [
    {
     "name": "stdout",
     "output_type": "stream",
     "text": [
      "(64334867, 3)\n",
      "<bound method NDFrame.head of           prediction                   chr      pos\n",
      "0          -4.692825                  chr1  3000000\n",
      "1          -5.157895                  chr1  3000050\n",
      "2          -4.388600                  chr1  3000100\n",
      "3          -0.664615                  chr1  3000150\n",
      "4          -0.752823                  chr1  3000200\n",
      "...              ...                   ...      ...\n",
      "53645922   -0.984944  chrY_JH584303_random   157700\n",
      "53645923   -0.666968  chrY_JH584303_random   157750\n",
      "53645924   -0.138928  chrY_JH584303_random   157800\n",
      "53645925   -0.892153  chrY_JH584303_random   157850\n",
      "53645926   -0.624606  chrY_JH584303_random   157900\n",
      "\n",
      "[53645927 rows x 3 columns]>\n"
     ]
    }
   ],
   "source": [
    "print(N2a_human.shape)\n",
    "print(N2a_mouse.head)"
   ]
  },
  {
   "cell_type": "code",
   "execution_count": 5,
   "id": "6810481f-dfbb-4424-93bb-4fd2ed6b244f",
   "metadata": {},
   "outputs": [
    {
     "data": {
      "text/plain": [
       "13"
      ]
     },
     "execution_count": 5,
     "metadata": {},
     "output_type": "execute_result"
    }
   ],
   "source": [
    "N2a_all = ( N2a_human\n",
    "              .assign(model='N2a',spec='human')\n",
    "                      .append( N2a_mouse\n",
    "                                .assign(model='N2a',spec='mouse') ) )\n",
    "N2a_all['prediction'] = pd.to_numeric(N2a_all['prediction'])\n",
    "\n",
    "HepG2_all = ( HepG2_human\n",
    "              .assign(model='HepG2',spec='human')\n",
    "                      .append( HepG2_mouse\n",
    "                                .assign(model='HepG2',spec='mouse') ) )\n",
    "HepG2_all['prediction'] = pd.to_numeric(HepG2_all['prediction'])\n",
    "\n",
    "#both_long = (N2a_all\n",
    "#                .append(HepG2_all))\n",
    "#                #.rename(columns={0:'pred_act',1:'chr',2:'pos'}))\n",
    "\n",
    "both_merged = (N2a_all\n",
    "                  .rename(columns={'prediction':'N2a'})\n",
    "                  .filter(['N2a','chr','pos','spec'])\n",
    "                  .merge(HepG2_all\n",
    "                         .rename(columns={'prediction':'HepG2'})\n",
    "                         .filter(['HepG2','chr','pos','spec',]),\n",
    "                                  on=('chr','pos','spec'))\n",
    "              .assign(diff=lambda x: x['HepG2']-x['N2a']) )\n",
    "\n",
    "del N2a_all\n",
    "del HepG2_all\n",
    "\n",
    "gc.collect()"
   ]
  },
  {
   "cell_type": "code",
   "execution_count": 6,
   "id": "29163b45-a8d5-4a87-a5c8-6597a728064f",
   "metadata": {},
   "outputs": [
    {
     "name": "stdout",
     "output_type": "stream",
     "text": [
      "(114035724, 6)\n",
      "<bound method NDFrame.head of                             chr     pos   spec     HepG2       N2a      diff\n",
      "0                          chr1   10000  human -0.100291 -0.007660 -0.092631\n",
      "1                          chr1   10050  human -0.020488  0.066999 -0.087487\n",
      "2                          chr1   10100  human -0.032757 -0.068959  0.036202\n",
      "3                          chr1   10150  human -0.073248 -0.173480  0.100231\n",
      "4                          chr1   10200  human -0.040499 -0.020042 -0.020457\n",
      "...                         ...     ...    ...       ...       ...       ...\n",
      "169220173  chrY_JH584303_random  157700  mouse -0.433901 -0.984944  0.551043\n",
      "169220174  chrY_JH584303_random  157750  mouse -0.260620 -0.666968  0.406349\n",
      "169220175  chrY_JH584303_random  157800  mouse  0.300503 -0.138928  0.439431\n",
      "169220176  chrY_JH584303_random  157850  mouse -1.393579 -0.892153 -0.501426\n",
      "169220177  chrY_JH584303_random  157900  mouse -0.462048 -0.624606  0.162557\n",
      "\n",
      "[114035724 rows x 6 columns]>\n",
      "                            chr     pos   spec     HepG2       N2a      diff\n",
      "12                         chr1   10600  human -4.159280 -5.267675  1.108395\n",
      "18                         chr1   10900  human -0.853207  0.159977 -1.013184\n",
      "19                         chr1   10950  human -1.125609  0.151591 -1.277200\n",
      "47                         chr1   12350  human -0.989868  0.052660 -1.042528\n",
      "48                         chr1   12400  human -1.231406  0.153122 -1.384528\n",
      "...                         ...     ...    ...       ...       ...       ...\n",
      "169219901  chrY_JH584303_random  144100  mouse -0.391453 -1.525127  1.133674\n",
      "169219916  chrY_JH584303_random  144850  mouse -0.525965 -1.762798  1.236833\n",
      "169219917  chrY_JH584303_random  144900  mouse -0.459967 -1.901021  1.441054\n",
      "169219981  chrY_JH584303_random  148100  mouse -1.132192 -2.867317  1.735125\n",
      "169220065  chrY_JH584303_random  152300  mouse -1.143574 -2.935134  1.791560\n",
      "\n",
      "[3393107 rows x 6 columns]\n",
      "                            chr     pos   spec     HepG2       N2a      diff\n",
      "1423                       chr1   80800  human  0.507653  1.553270 -1.045616\n",
      "1653                       chr1   90900  human -0.501382  1.095801 -1.597183\n",
      "1812                       chr1   98850  human -0.528745 -1.556748  1.028003\n",
      "2721                       chr1  144300  human -0.579936  0.732581 -1.312517\n",
      "2778                       chr1  147150  human  0.514105  1.710449 -1.196344\n",
      "...                         ...     ...    ...       ...       ...       ...\n",
      "169213222  chrY_JH584301_random  224150  mouse -0.602347 -1.624152  1.021806\n",
      "169213982  chrY_JH584302_random    2400  mouse -0.506231 -1.619679  1.113449\n",
      "169217261  chrY_JH584303_random   12000  mouse -0.531106 -1.766433  1.235327\n",
      "169218092  chrY_JH584303_random   53550  mouse -0.585803 -1.605462  1.019659\n",
      "169219916  chrY_JH584303_random  144850  mouse -0.525965 -1.762798  1.236833\n",
      "\n",
      "[155396 rows x 6 columns]\n",
      "                            chr     pos   spec     HepG2       N2a      diff\n",
      "371                        chr1   28550  human -0.714949 -2.731185  2.016237\n",
      "816                        chr1   50800  human -0.363496 -2.560704  2.197208\n",
      "1030                       chr1   61500  human -0.567363 -2.759779  2.192416\n",
      "1654                       chr1   90950  human -0.147229  2.116516 -2.263745\n",
      "1730                       chr1   94750  human -0.891923 -2.953965  2.062042\n",
      "...                         ...     ...    ...       ...       ...       ...\n",
      "169213644  chrY_JH584301_random  245250  mouse -0.693993 -2.982532  2.288539\n",
      "169215107  chrY_JH584302_random   59650  mouse -3.667534 -5.825009  2.157475\n",
      "169215108  chrY_JH584302_random   59700  mouse -2.870861 -5.267794  2.396933\n",
      "169215109  chrY_JH584302_random   59750  mouse -1.792229 -5.310281  3.518052\n",
      "169215121  chrY_JH584302_random   60350  mouse -0.553252 -4.480177  3.926925\n",
      "\n",
      "[379926 rows x 6 columns]\n",
      "            chr       pos   spec     HepG2       N2a      diff\n",
      "26329      chr1   1445750  human -0.600016  1.879641 -2.479657\n",
      "27187      chr1   1487250  human -0.698090  1.458678 -2.156768\n",
      "27863      chr1   1521050  human -0.534843  2.477407 -3.012250\n",
      "95354      chr1   4933700  human -0.635825  1.651107 -2.286931\n",
      "196161     chr1   9970450  human -0.971290  1.552869 -2.524160\n",
      "...         ...       ...    ...       ...       ...       ...\n",
      "168994508  chrY  79472000  mouse  1.693184 -0.572086  2.265271\n",
      "169001178  chrY  79765400  mouse  1.879105 -0.596234  2.475339\n",
      "169018586  chrY  80563650  mouse  1.394487 -0.710796  2.105283\n",
      "169018588  chrY  88688400  mouse  1.394487 -0.710796  2.105283\n",
      "169140774  chrY  87269100  mouse  2.096826 -0.545583  2.642408\n",
      "\n",
      "[1180 rows x 6 columns]\n",
      "                            chr     pos   spec     HepG2       N2a      diff\n",
      "1731                       chr1   94800  human -0.468271 -3.660096  3.191826\n",
      "1813                       chr1   98900  human -1.493081 -5.233500  3.740419\n",
      "1814                       chr1   98950  human -2.510956 -6.351367  3.840411\n",
      "1816                       chr1   99050  human -0.814609 -5.660590  4.845981\n",
      "4341                       chr1  275500  human -1.575757 -5.154065  3.578308\n",
      "...                         ...     ...    ...       ...       ...       ...\n",
      "169209663  chrY_JH584301_random   58700  mouse -1.700851 -5.069567  3.368716\n",
      "169211877  chrY_JH584301_random  156650  mouse -2.696765 -6.252390  3.555625\n",
      "169212910  chrY_JH584301_random  208300  mouse -1.268763 -5.320406  4.051643\n",
      "169215109  chrY_JH584302_random   59750  mouse -1.792229 -5.310281  3.518052\n",
      "169215121  chrY_JH584302_random   60350  mouse -0.553252 -4.480177  3.926925\n",
      "\n",
      "[103551 rows x 6 columns]\n",
      "            chr        pos   spec     HepG2       N2a      diff\n",
      "27863      chr1    1521050  human -0.534843  2.477407 -3.012250\n",
      "252051     chr1   12764950  human -0.579440  2.790942 -3.370382\n",
      "315834     chr1   16001550  human -0.575052  2.448183 -3.023234\n",
      "409048     chr1   20712450  human -0.526732  2.575640 -3.102372\n",
      "2747804    chr1  154661950  human -0.831346  2.829308 -3.660654\n",
      "...         ...        ...    ...       ...       ...       ...\n",
      "165766773  chrX  111137650  mouse -5.359757  0.671307 -6.031064\n",
      "167235850  chrY   13944100  mouse  2.415650 -0.651887  3.067537\n",
      "168105113  chrY   50250950  mouse  2.901626 -0.603276  3.504901\n",
      "168673293  chrY   66547050  mouse  2.485185 -0.631411  3.116596\n",
      "168910973  chrY   75867950  mouse  2.457378 -0.738415  3.195793\n",
      "\n",
      "[121 rows x 6 columns]\n"
     ]
    }
   ],
   "source": [
    "both_merged = (both_merged\n",
    "               .filter(['chr','pos','spec','HepG2','N2a','diff'])\n",
    "               .drop_duplicates())\n",
    "\n",
    "#rint(both_long.shape)\n",
    "print(both_merged.shape)\n",
    "print(both_merged.head)\n",
    "\n",
    "print(both_merged.query(\"abs(diff) > 1\"))\n",
    "print(both_merged.query(\"abs(diff) > 1 & \\\n",
    "                            (HepG2<-.5 | HepG2>.5) & \\\n",
    "                            (N2a<-.5 | N2a>.5) & \\\n",
    "                            HepG2*N2a<1\"))\n",
    "\n",
    "print(both_merged.query(\"abs(diff) > 2\"))\n",
    "print(both_merged.query(\"abs(diff) > 2 & \\\n",
    "                            (HepG2<-.5 | HepG2>.5) & \\\n",
    "                            (N2a<-.5 | N2a>.5) & \\\n",
    "                            HepG2*N2a<1\"))\n",
    "\n",
    "print(both_merged.query(\"abs(diff) > 3\"))\n",
    "print(both_merged.query(\"abs(diff) > 3 & \\\n",
    "                            (HepG2<-.5 | HepG2>.5) & \\\n",
    "                            (N2a<-.5 | N2a>.5) & \\\n",
    "                            HepG2*N2a<1\"))"
   ]
  },
  {
   "cell_type": "code",
   "execution_count": null,
   "id": "89d42510-b1ae-4a8c-8cec-2ed2ef974ee0",
   "metadata": {},
   "outputs": [],
   "source": [
    "\n",
    "both_merged.query(\"abs(diff) > 1\").to_csv(\"scores/all.absdiff1.txt\",\n",
    "                                          sep='\\t',\n",
    "                                         index=False)\n",
    "\n",
    "both_merged.query(\"abs(diff) > 2\").to_csv(\"scores/all.absdiff2.txt\",\n",
    "                                          sep='\\t',\n",
    "                                         index=False)\n",
    "\n",
    "both_merged.query(\"abs(diff) > 2 & \\\n",
    "                            (HepG2<-.5 | HepG2>.5) & \\\n",
    "                            (N2a<-.5 | N2a>.5) & \\\n",
    "                            HepG2*N2a<1\").to_csv(\"scores/all.absdiff2_filt.txt\",\n",
    "                                          sep='\\t',\n",
    "                                         index=False)\n"
   ]
  },
  {
   "cell_type": "code",
   "execution_count": null,
   "id": "872ddc5f-1d0e-4756-9643-fea7c0da56e4",
   "metadata": {},
   "outputs": [],
   "source": [
    "## High seqs\n",
    "\n",
    "\n"
   ]
  },
  {
   "cell_type": "code",
   "execution_count": 14,
   "id": "e19deee8-dad5-4874-b61a-867196167f99",
   "metadata": {},
   "outputs": [
    {
     "ename": "NameError",
     "evalue": "name 'read' is not defined",
     "output_type": "error",
     "traceback": [
      "\u001b[0;31m---------------------------------------------------------------------------\u001b[0m",
      "\u001b[0;31mNameError\u001b[0m                                 Traceback (most recent call last)",
      "\u001b[0;32m/tmp/ipykernel_1081457/2921569733.py\u001b[0m in \u001b[0;36m<module>\u001b[0;34m\u001b[0m\n\u001b[0;32m----> 1\u001b[0;31m \u001b[0mhuman_seqs\u001b[0m \u001b[0;34m=\u001b[0m \u001b[0mread\u001b[0m\u001b[0;34m.\u001b[0m\u001b[0mtable\u001b[0m\u001b[0;34m(\u001b[0m\u001b[0;34m\"tiled_seqs/hg38_all_chr_tiling.txt\"\u001b[0m\u001b[0;34m)\u001b[0m\u001b[0;34m\u001b[0m\u001b[0;34m\u001b[0m\u001b[0m\n\u001b[0m\u001b[1;32m      2\u001b[0m \u001b[0mmouse_seqs\u001b[0m \u001b[0;34m=\u001b[0m \u001b[0mread\u001b[0m\u001b[0;34m.\u001b[0m\u001b[0mtable\u001b[0m\u001b[0;34m(\u001b[0m\u001b[0;34m\"tiled_seqs/mm10_all_chr_tiling.txt\"\u001b[0m\u001b[0;34m)\u001b[0m\u001b[0;34m\u001b[0m\u001b[0;34m\u001b[0m\u001b[0m\n",
      "\u001b[0;31mNameError\u001b[0m: name 'read' is not defined"
     ]
    }
   ],
   "source": [
    "#human_seqs = pd.read_csv(\"tiled_seqs/hg38_all_chr_tiling.txt\")\n",
    "#mouse_seqs = pd.read_csv(\"tiled_seqs/mm10_all_chr_tiling.txt\")"
   ]
  },
  {
   "cell_type": "code",
   "execution_count": 14,
   "id": "cb041c97-0848-47b3-a791-203f7ae7bce7",
   "metadata": {},
   "outputs": [
    {
     "ename": "NameError",
     "evalue": "name 'HepG2_human' is not defined",
     "output_type": "error",
     "traceback": [
      "\u001b[0;31m---------------------------------------------------------------------------\u001b[0m",
      "\u001b[0;31mNameError\u001b[0m                                 Traceback (most recent call last)",
      "\u001b[0;32m/tmp/ipykernel_1080903/1512711673.py\u001b[0m in \u001b[0;36m<module>\u001b[0;34m\u001b[0m\n\u001b[1;32m      1\u001b[0m \u001b[0;31m#del N2a_human\u001b[0m\u001b[0;34m\u001b[0m\u001b[0;34m\u001b[0m\u001b[0;34m\u001b[0m\u001b[0m\n\u001b[1;32m      2\u001b[0m \u001b[0;31m#del N2a_mouse\u001b[0m\u001b[0;34m\u001b[0m\u001b[0;34m\u001b[0m\u001b[0;34m\u001b[0m\u001b[0m\n\u001b[0;32m----> 3\u001b[0;31m \u001b[0;32mdel\u001b[0m \u001b[0mHepG2_human\u001b[0m\u001b[0;34m\u001b[0m\u001b[0;34m\u001b[0m\u001b[0m\n\u001b[0m\u001b[1;32m      4\u001b[0m \u001b[0;32mdel\u001b[0m \u001b[0mHepG2_mouse\u001b[0m\u001b[0;34m\u001b[0m\u001b[0;34m\u001b[0m\u001b[0m\n",
      "\u001b[0;31mNameError\u001b[0m: name 'HepG2_human' is not defined"
     ]
    }
   ],
   "source": [
    "#del N2a_human\n",
    "#del N2a_mouse\n",
    "del HepG2_human\n",
    "del HepG2_mouse"
   ]
  },
  {
   "cell_type": "code",
   "execution_count": 15,
   "id": "74a27d2d-4448-42d4-bc0a-b980cf063163",
   "metadata": {},
   "outputs": [
    {
     "name": "stdout",
     "output_type": "stream",
     "text": [
      "['In', 'Out', '_', '_13', '__', '___', '__builtin__', '__builtins__', '__doc__', '__loader__', '__name__', '__package__', '__spec__', '_dh', '_i', '_i1', '_i10', '_i11', '_i12', '_i13', '_i14', '_i15', '_i2', '_i3', '_i4', '_i5', '_i6', '_i7', '_i8', '_i9', '_ih', '_ii', '_iii', '_oh', 'exit', 'gc', 'get_ipython', 'np', 'os', 'pd', 'quit']\n"
     ]
    },
    {
     "data": {
      "text/plain": [
       "8"
      ]
     },
     "execution_count": 15,
     "metadata": {},
     "output_type": "execute_result"
    }
   ],
   "source": [
    "print(dir())\n",
    "gc.collect()"
   ]
  },
  {
   "cell_type": "code",
   "execution_count": null,
   "id": "19fc11b2-7c4a-4649-84bc-4890e6cea700",
   "metadata": {},
   "outputs": [],
   "source": []
  }
 ],
 "metadata": {
  "kernelspec": {
   "display_name": "Python 3 (ipykernel)",
   "language": "python",
   "name": "python3"
  },
  "language_info": {
   "codemirror_mode": {
    "name": "ipython",
    "version": 3
   },
   "file_extension": ".py",
   "mimetype": "text/x-python",
   "name": "python",
   "nbconvert_exporter": "python",
   "pygments_lexer": "ipython3",
   "version": "3.8.12"
  }
 },
 "nbformat": 4,
 "nbformat_minor": 5
}
