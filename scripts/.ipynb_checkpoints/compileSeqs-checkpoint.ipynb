{
 "cells": [
  {
   "cell_type": "markdown",
   "id": "0e3c04ec-3b4b-4c49-ad99-2975434e8526",
   "metadata": {},
   "source": [
    "# Put library together"
   ]
  },
  {
   "cell_type": "code",
   "execution_count": 4,
   "id": "b0f109a9-2224-4ad6-91f7-6ced36a7249a",
   "metadata": {},
   "outputs": [],
   "source": [
    "import pandas as pd\n",
    "import numpy as np\n",
    "import os\n",
    "import gc\n",
    "\n",
    "import seaborn as sns\n",
    "import matplotlib.pyplot as plt\n",
    "\n",
    "import random\n",
    "\n",
    "os.chdir(\"/home/elise/projects/whole-genome-tiling-predictions/\")\n"
   ]
  },
  {
   "cell_type": "code",
   "execution_count": 57,
   "id": "ee05d533-0c59-4d35-8826-4053b92ee55c",
   "metadata": {},
   "outputs": [],
   "source": [
    "\n",
    "lib_name=\"PB-TL-0030\"\n",
    "left_ad = \"ACTGGCCGCTTGACG\"\n",
    "right_ad = \"CACTGCGGCTCCTGC\"\n"
   ]
  },
  {
   "cell_type": "code",
   "execution_count": 58,
   "id": "d5275f71-a47c-4eb2-bd10-bd3311a7d9cb",
   "metadata": {},
   "outputs": [],
   "source": [
    "\n",
    "# human_diff_seqs = pd.read_csv()\n",
    "# mouse_diff_seqs = pd.read_csv()\n",
    "\n",
    "mouse_high_seqs = ( pd.read_csv(\"scores/both.mm10.scores.high_N2a.txt\",\n",
    "                               sep='\\t')\n",
    "                    .assign(high_N2a_pred='Yes')\n",
    "                    .merge(pd.read_csv(\"scores/both.mm10.scores.high_HepG2.txt\",\n",
    "                                      sep='\\t')\n",
    "                          .assign(high_HepG2_pred='Yes'),\n",
    "                          on=('region','sequence'),\n",
    "                          how='outer')\n",
    "                    .assign(spec='mouse',build='mm10') )\n",
    "mouse_high_seqs['HepG2'] = mouse_high_seqs[[\"HepG2_y\",\"HepG2_x\"]].max(axis=1)\n",
    "mouse_high_seqs['N2a'] = mouse_high_seqs[[\"N2a_y\",\"N2a_x\"]].max(axis=1)\n",
    "mouse_high_seqs['diff'] = mouse_high_seqs[[\"diff_y\",\"diff_x\"]].max(axis=1)\n",
    "mouse_high_seqs = mouse_high_seqs.filter(['region','sequence','spec','build',\n",
    "                                          'HepG2','N2a','diff',\n",
    "                                          'high_HepG2_pred','high_N2a_pred'])\n",
    "\n",
    "\n",
    "human_high_seqs = ( pd.read_csv(\"scores/both.hg38.scores.high_N2a.txt\",\n",
    "                               sep='\\t')\n",
    "                    .assign(high_N2a_pred='Yes')\n",
    "                    .merge(pd.read_csv(\"scores/both.hg38.scores.high_HepG2.txt\",\n",
    "                                      sep='\\t')\n",
    "                          .assign(high_HepG2_pred='Yes'),\n",
    "                          on=('region','sequence'),\n",
    "                          how='outer')\n",
    "                    .assign(spec='human',build='hg38') )\n",
    "human_high_seqs['HepG2'] = human_high_seqs[[\"HepG2_y\",\"HepG2_x\"]].max(axis=1)\n",
    "human_high_seqs['N2a'] = human_high_seqs[[\"N2a_y\",\"N2a_x\"]].max(axis=1)\n",
    "human_high_seqs['diff'] = human_high_seqs[[\"diff_y\",\"diff_x\"]].max(axis=1)\n",
    "human_high_seqs = human_high_seqs.filter(['region','sequence','spec','build',\n",
    "                                          'HepG2','N2a','diff',\n",
    "                                          'high_HepG2_pred','high_N2a_pred'])\n",
    "\n",
    "\n",
    "\n",
    "mouse_diff_seqs = ( pd.read_csv(\"scores/both.mm10.scores.diff_filt.txt\",\n",
    "                                sep='\\t')\n",
    "                                .assign(spec='mouse',build='mm10',\n",
    "                                        diff_pred='Yes') )\n",
    "\n",
    "human_diff_seqs = ( pd.read_csv(\"scores/both.hg38.scores.diff_filt.txt\",\n",
    "                                sep='\\t')\n",
    "                                .assign(spec='human',build='hg38',\n",
    "                                        diff_pred='Yes') )\n",
    "\n",
    "\n",
    "KI_seqs_high = pd.read_csv(\"library/KI_top_filt.txt\",\n",
    "                          sep='\\t')\n",
    "KI_seqs_low = pd.read_csv(\"library/KI_bot_filt.txt\",\n",
    "                         sep='\\t')\n",
    "KI_seqs_diff = pd.read_csv(\"library/KI_diff_filt.txt\",\n",
    "                          sep='\\t')\n",
    "\n",
    "Angelou_seqs = pd.read_csv(\"library/angelou_annotations.tsv\",\n",
    "                          sep='\\t')\n",
    "\n"
   ]
  },
  {
   "cell_type": "code",
   "execution_count": 59,
   "id": "2e440201-eda0-4dc0-9cc6-28169e5b4be8",
   "metadata": {},
   "outputs": [
    {
     "name": "stdout",
     "output_type": "stream",
     "text": [
      "(6406, 10)\n",
      "<bound method NDFrame.head of                         region  \\\n",
      "0       chr3:51273600-51273770   \n",
      "1      chr10:69915050-69915220   \n",
      "2      chr17:27032250-27032420   \n",
      "3       chr2:87218700-87218870   \n",
      "4        chr16:4089600-4089770   \n",
      "...                        ...   \n",
      "6401  chr7:105492150-105492320   \n",
      "6402    chr1:56842200-56842370   \n",
      "6403   chr12:12908650-12908820   \n",
      "6404  chr2:127034200-127034370   \n",
      "6405   chr15:64718350-64718520   \n",
      "\n",
      "                                               sequence   spec build  \\\n",
      "0     GGGTCTCTGTGAGTTCGAGGCCAGCCTGACCTACAAAGCAAGTTCC...  mouse  mm10   \n",
      "1     GCAGAGACAGACAGATCTCTCTAAGTTCGAGACCAGCCTCATCTAC...  mouse  mm10   \n",
      "2     TGGGATCCCAGGGGGCAGAGGAGGAAGGTCAGGAGTTCAAGGCCAG...  mouse  mm10   \n",
      "3     TGGGTTCGAGGCCAGCCTGGTCTACAAAGTGAGTTCCAGAAAAGCC...  mouse  mm10   \n",
      "4     AGTTCGAGGCCAGCCCTGGTCAACAGAGTAAGTTCCAGGACAGCCG...  mouse  mm10   \n",
      "...                                                 ...    ...   ...   \n",
      "6401  ATCAGAAGTTCAAAACCACCCTGGGATACTGTCTCAAAAATACAGG...  mouse  mm10   \n",
      "6402  TGGGGATATGGAAGTTTAGTGGGATGAGGTTCATAAGTTCAAGGCC...  mouse  mm10   \n",
      "6403  AGTTCAAATCCCCAGAACCCACATAAAATACTAGCCATGACCTCTA...  mouse  mm10   \n",
      "6404  ATCAGGAGTTCAAATCCACAGCTGGTTAAGATTTAGAGGACATTGA...  mouse  mm10   \n",
      "6405  GATCAAGAGTTCAAATCCATCTGCTGTACATTGAGTGGGAGGTCAG...  mouse  mm10   \n",
      "\n",
      "         HepG2       N2a      diff high_HepG2_pred high_N2a_pred diff_pred  \n",
      "0     3.579243  4.041115 -0.461872             NaN           Yes       NaN  \n",
      "1     4.142754  4.041198  0.101556             NaN           Yes       NaN  \n",
      "2     3.021876  4.041264 -1.019387             NaN           Yes       NaN  \n",
      "3     2.551410  4.041307 -1.489897             NaN           Yes       NaN  \n",
      "4     3.402561  4.041369 -0.638808             NaN           Yes       NaN  \n",
      "...        ...       ...       ...             ...           ...       ...  \n",
      "6401  1.355375  3.618431 -2.263056             NaN           NaN       Yes  \n",
      "6402  1.052839  3.120970 -2.068131             NaN           NaN       Yes  \n",
      "6403  1.554877  3.577913 -2.023036             NaN           NaN       Yes  \n",
      "6404  1.014267  3.486624 -2.472357             NaN           NaN       Yes  \n",
      "6405  1.182996  4.005245 -2.822249             NaN           NaN       Yes  \n",
      "\n",
      "[6406 rows x 10 columns]>\n"
     ]
    }
   ],
   "source": [
    "## Combine all high/diff mouse seqs from tiling\n",
    "\n",
    "all_mouse_seqs = ( mouse_high_seqs\n",
    "                   .merge(mouse_diff_seqs,\n",
    "                          on=('region','sequence','spec','build'),\n",
    "                          how='outer') )\n",
    "#print(all_mouse_seqs.head)\n",
    "all_mouse_seqs['HepG2'] = all_mouse_seqs[[\"HepG2_y\",\"HepG2_x\"]].max(axis=1)\n",
    "all_mouse_seqs['N2a'] = all_mouse_seqs[[\"N2a_y\",\"N2a_x\"]].max(axis=1)\n",
    "all_mouse_seqs['diff'] = all_mouse_seqs[[\"diff_y\",\"diff_x\"]].max(axis=1)\n",
    "#print(mouse_diff_seqs.shape)\n",
    "#print(all_mouse_seqs.shape)\n",
    "#print(all_mouse_seqs[~np.isnan(all_mouse_seqs['HepG2_y']) & ~np.isnan(all_mouse_seqs['HepG2_x'])].head)\n",
    "all_mouse_seqs = all_mouse_seqs.filter(['region','sequence','spec','build',\n",
    "                                          'HepG2','N2a','diff',\n",
    "                                          'high_HepG2_pred','high_N2a_pred','diff_pred'])\n",
    "print(all_mouse_seqs.shape)\n",
    "print(all_mouse_seqs.head)"
   ]
  },
  {
   "cell_type": "code",
   "execution_count": 60,
   "id": "df306461-195e-47c4-80a7-bb5c941b212a",
   "metadata": {},
   "outputs": [
    {
     "name": "stdout",
     "output_type": "stream",
     "text": [
      "(6378, 10)\n",
      "<bound method NDFrame.head of                         region  \\\n",
      "0       chrX:72639300-72639470   \n",
      "1     chrX:153836100-153836270   \n",
      "2       chrX:68557100-68557270   \n",
      "3      chr17:36906100-36906270   \n",
      "4     chr7:102487700-102487870   \n",
      "...                        ...   \n",
      "6373  chr3:129416200-129416370   \n",
      "6374   chr17:19759350-19759520   \n",
      "6375  chr3:190233400-190233570   \n",
      "6376    chr1:26002100-26002270   \n",
      "6377      chr7:3180400-3180570   \n",
      "\n",
      "                                               sequence   spec build  \\\n",
      "0     GCCAAGGTGGGCAGATCACAAGGTCAGGAGTTCGAGACCAGCCTGG...  human  hg38   \n",
      "1     GCGGGCAGATCACAAGGTCAGGAGTTCAAGACCAGCCTGGCCAACA...  human  hg38   \n",
      "2     GGATCACGAGGTCAGGAGTTCGAGACCAGACTGACCAACATGGTGA...  human  hg38   \n",
      "3     CGGATCACGAGGTCAGGAGTTCAAGACCAGCCTGGCCAATATGGTG...  human  hg38   \n",
      "4     GAGGGCAGATCACGAGGTCGGGAGTTCAAGACCAGCCTGGCCAACA...  human  hg38   \n",
      "...                                                 ...    ...   ...   \n",
      "6373  CTGAGGCCAGGAGTTCGAGACCAGACTGGCCAGCATGGTGAAGCCC...  human  hg38   \n",
      "6374  CCTGAGGTCGGGAGTTCGAGACCAGTCTTGACGAATAAGCACAAAC...  human  hg38   \n",
      "6375  CCTGAGGTCAGGAGTTCGAGACCACTCCTCCACTGTGGAGTAGACA...  human  hg38   \n",
      "6376  CCAAGGTTAGGGGTTCGAGACCAACCTGACCAACATGATGAAACCC...  human  hg38   \n",
      "6377  TTGAGGTCAGGAGTTCGAGACCAGCCTGAGCAACAGAGTGAGGCCA...  human  hg38   \n",
      "\n",
      "         HepG2       N2a      diff high_HepG2_pred high_N2a_pred diff_pred  \n",
      "0     6.934763  6.053061  0.881702             NaN           Yes       NaN  \n",
      "1     7.099666  6.053072  1.046594             NaN           Yes       NaN  \n",
      "2     7.185901  6.053546  1.132355             NaN           Yes       NaN  \n",
      "3     7.066918  6.053561  1.013358             NaN           Yes       NaN  \n",
      "4     6.697373  6.053592  0.643782             NaN           Yes       NaN  \n",
      "...        ...       ...       ...             ...           ...       ...  \n",
      "6373  7.075271  4.523106  2.552165             NaN           NaN       Yes  \n",
      "6374  7.801774  4.390387  3.411387             NaN           NaN       Yes  \n",
      "6375  7.016791  4.020752  2.996039             NaN           NaN       Yes  \n",
      "6376  7.170343  4.647695  2.522648             NaN           NaN       Yes  \n",
      "6377  7.762290  4.745227  3.017063             NaN           NaN       Yes  \n",
      "\n",
      "[6378 rows x 10 columns]>\n"
     ]
    }
   ],
   "source": [
    "## Combine all high/diff human seqs from tiling\n",
    "\n",
    "all_human_seqs = ( human_high_seqs\n",
    "                   .merge(human_diff_seqs,\n",
    "                          on=('region','sequence','spec','build'),\n",
    "                          how='outer') )\n",
    "#print(all_human_seqs.head)\n",
    "all_human_seqs['HepG2'] = all_human_seqs[[\"HepG2_y\",\"HepG2_x\"]].max(axis=1)\n",
    "all_human_seqs['N2a'] = all_human_seqs[[\"N2a_y\",\"N2a_x\"]].max(axis=1)\n",
    "all_human_seqs['diff'] = all_human_seqs[[\"diff_y\",\"diff_x\"]].max(axis=1)\n",
    "#print(human_diff_seqs.shape)\n",
    "#print(all_human_seqs.shape)\n",
    "#print(all_human_seqs[~np.isnan(all_human_seqs['HepG2_y']) & ~np.isnan(all_human_seqs['HepG2_x'])].head)\n",
    "all_human_seqs = all_human_seqs.filter(['region','sequence','spec','build',\n",
    "                                          'HepG2','N2a','diff',\n",
    "                                          'high_HepG2_pred','high_N2a_pred','diff_pred'])\n",
    "print(all_human_seqs.shape)\n",
    "print(all_human_seqs.head)"
   ]
  },
  {
   "cell_type": "code",
   "execution_count": 65,
   "id": "ebd87e1b-10d0-4b70-8ccb-0fee333063c0",
   "metadata": {},
   "outputs": [
    {
     "name": "stdout",
     "output_type": "stream",
     "text": [
      "(12784, 10)\n"
     ]
    },
    {
     "data": {
      "image/png": "[encoded data removed]",
      "text/plain": [
       "<Figure size 360x360 with 1 Axes>"
      ]
     },
     "metadata": {
      "needs_background": "light"
     },
     "output_type": "display_data"
    },
    {
     "data": {
      "image/png": "[encoded data removed]",
      "text/plain": [
       "<Figure size 360x360 with 1 Axes>"
      ]
     },
     "metadata": {
      "needs_background": "light"
     },
     "output_type": "display_data"
    }
   ],
   "source": [
    "sns.displot(data=all_mouse_seqs,\n",
    "           x='HepG2', y='N2a',\n",
    "           binwidth=.25)\n",
    "plt.title(\"Pred activity of mouse seqs\")\n",
    "\n",
    "sns.displot(data=all_human_seqs,\n",
    "           x='HepG2', y='N2a',\n",
    "           binwidth=.25)\n",
    "plt.title(\"Pred activity of human seqs\")\n"
   ]
  },
  {
   "cell_type": "code",
   "execution_count": 72,
   "id": "d90a199e-8a8e-4d07-a25c-f8d26f3c07c8",
   "metadata": {},
   "outputs": [
    {
     "name": "stdout",
     "output_type": "stream",
     "text": [
      "(12784, 10)\n",
      "<bound method NDFrame.head of                         region  \\\n",
      "0       chr3:51273600-51273770   \n",
      "1      chr10:69915050-69915220   \n",
      "2      chr17:27032250-27032420   \n",
      "3       chr2:87218700-87218870   \n",
      "4        chr16:4089600-4089770   \n",
      "...                        ...   \n",
      "6373  chr3:129416200-129416370   \n",
      "6374   chr17:19759350-19759520   \n",
      "6375  chr3:190233400-190233570   \n",
      "6376    chr1:26002100-26002270   \n",
      "6377      chr7:3180400-3180570   \n",
      "\n",
      "                                               sequence   spec build  \\\n",
      "0     GGGTCTCTGTGAGTTCGAGGCCAGCCTGACCTACAAAGCAAGTTCC...  mouse  mm10   \n",
      "1     GCAGAGACAGACAGATCTCTCTAAGTTCGAGACCAGCCTCATCTAC...  mouse  mm10   \n",
      "2     TGGGATCCCAGGGGGCAGAGGAGGAAGGTCAGGAGTTCAAGGCCAG...  mouse  mm10   \n",
      "3     TGGGTTCGAGGCCAGCCTGGTCTACAAAGTGAGTTCCAGAAAAGCC...  mouse  mm10   \n",
      "4     AGTTCGAGGCCAGCCCTGGTCAACAGAGTAAGTTCCAGGACAGCCG...  mouse  mm10   \n",
      "...                                                 ...    ...   ...   \n",
      "6373  CTGAGGCCAGGAGTTCGAGACCAGACTGGCCAGCATGGTGAAGCCC...  human  hg38   \n",
      "6374  CCTGAGGTCGGGAGTTCGAGACCAGTCTTGACGAATAAGCACAAAC...  human  hg38   \n",
      "6375  CCTGAGGTCAGGAGTTCGAGACCACTCCTCCACTGTGGAGTAGACA...  human  hg38   \n",
      "6376  CCAAGGTTAGGGGTTCGAGACCAACCTGACCAACATGATGAAACCC...  human  hg38   \n",
      "6377  TTGAGGTCAGGAGTTCGAGACCAGCCTGAGCAACAGAGTGAGGCCA...  human  hg38   \n",
      "\n",
      "         HepG2       N2a      diff high_HepG2_pred high_N2a_pred diff_pred  \n",
      "0     3.579243  4.041115 -0.461872             NaN           Yes       NaN  \n",
      "1     4.142754  4.041198  0.101556             NaN           Yes       NaN  \n",
      "2     3.021876  4.041264 -1.019387             NaN           Yes       NaN  \n",
      "3     2.551410  4.041307 -1.489897             NaN           Yes       NaN  \n",
      "4     3.402561  4.041369 -0.638808             NaN           Yes       NaN  \n",
      "...        ...       ...       ...             ...           ...       ...  \n",
      "6373  7.075271  4.523106  2.552165             NaN           NaN       Yes  \n",
      "6374  7.801774  4.390387  3.411387             NaN           NaN       Yes  \n",
      "6375  7.016791  4.020752  2.996039             NaN           NaN       Yes  \n",
      "6376  7.170343  4.647695  2.522648             NaN           NaN       Yes  \n",
      "6377  7.762290  4.745227  3.017063             NaN           NaN       Yes  \n",
      "\n",
      "[12784 rows x 10 columns]>\n"
     ]
    }
   ],
   "source": [
    "\n",
    "all_tiled_seqs = pd.concat([all_mouse_seqs,all_human_seqs])\n",
    "print(all_tiled_seqs.shape)\n",
    "print(all_tiled_seqs.head)\n",
    "\n",
    "all_tiled_seqs.to_csv(\"library/all_tiled_seqs.txt\",\n",
    "                         index=False,\n",
    "                         sep='\\t')\n"
   ]
  },
  {
   "cell_type": "code",
   "execution_count": 73,
   "id": "c5c16e05-710e-4f17-bd1e-348764158cc5",
   "metadata": {},
   "outputs": [
    {
     "name": "stdout",
     "output_type": "stream",
     "text": [
      "<bound method NDFrame.head of                  PB_ID                                           sequence  \\\n",
      "0    PB-TL-0022-007222  CACGAGGTCAAGAGTTCGAGACCATCCTGGCCAACATGGTGAAACC...   \n",
      "1    PB-TL-0018-007342  CCGGAGGTCGGGAGTTCGAGACCAGCCTGGCGAATATGGAGAAACC...   \n",
      "2    PB-TL-0022-005161  ACTGAGGTCAGGAGTTCGAGACCACCCATGGTCAACAGCCGCCGTG...   \n",
      "3    PB-TL-0024-013156  CTGAGGTCAGGAGTTCGAGACCAGCCTGGCCAACATGGTGAAACCC...   \n",
      "4    PB-TL-0018-006797  TTGAGGTCAGGAGTTCGAGACCAGCCTGGCCAACACAGCAAGAAAC...   \n",
      "..                 ...                                                ...   \n",
      "205  PB-TL-0024-004657  AAGGTCGGAGGTTCGAGACCAGGCTGGGTTCGAAGCCCGGCGGCCC...   \n",
      "206  PB-TL-0024-010824  CAGATCACGAGGTCATGAATTCGAGACCAGCCTGACCAACATGGTG...   \n",
      "207  PB-TL-0022-010831  CTAGCTTAGGATCACGAGGTCAAGAGATCGAGACCATCCTGGCCAA...   \n",
      "208  PB-TL-0024-012436  GGTGGGTGGATCACGAGGTCAGGAGTTCGAGACCAGCCTGGCCAAG...   \n",
      "209  PB-TL-0024-011955  CGGATCACCTGAGGTCAGTAGTTCGAGACCAGCCTGGCCACCATAG...   \n",
      "\n",
      "     ave_DNA_count     library     HepG2       N2a      diff         seq12  \n",
      "0             22.5  PB-TL-0022  9.431305  5.077938  4.353367  CACGAGGTCAAG  \n",
      "1             25.0  PB-TL-0018  8.903337  5.555971  3.347366  CCGGAGGTCGGG  \n",
      "2             30.5  PB-TL-0022  8.837917  5.055586  3.782332  ACTGAGGTCAGG  \n",
      "3             45.5  PB-TL-0024  8.754869  5.121608  3.633260  CTGAGGTCAGGA  \n",
      "4             29.0  PB-TL-0018  8.732176  5.622078  3.110099  TTGAGGTCAGGA  \n",
      "..             ...         ...       ...       ...       ...           ...  \n",
      "205           43.5  PB-TL-0024  6.080161  5.530954  0.549207  AAGGTCGGAGGT  \n",
      "206           26.0  PB-TL-0024  5.889928  5.523237  0.366691  CAGATCACGAGG  \n",
      "207           27.0  PB-TL-0022  5.862770  5.523227  0.339544  CTAGCTTAGGAT  \n",
      "208           48.5  PB-TL-0024  6.238022  5.513462  0.724560  GGTGGGTGGATC  \n",
      "209           32.0  PB-TL-0024  6.903866  5.508537  1.395330  CGGATCACCTGA  \n",
      "\n",
      "[210 rows x 8 columns]>\n"
     ]
    }
   ],
   "source": [
    "## Combine carryover seqs\n",
    "\n",
    "print(KI_seqs_high.head)"
   ]
  },
  {
   "cell_type": "code",
   "execution_count": null,
   "id": "6af000dc-cc09-4eb0-8096-3fbf613e8c38",
   "metadata": {},
   "outputs": [],
   "source": []
  }
 ],
 "metadata": {
  "kernelspec": {
   "display_name": "Python 3 (ipykernel)",
   "language": "python",
   "name": "python3"
  },
  "language_info": {
   "codemirror_mode": {
    "name": "ipython",
    "version": 3
   },
   "file_extension": ".py",
   "mimetype": "text/x-python",
   "name": "python",
   "nbconvert_exporter": "python",
   "pygments_lexer": "ipython3",
   "version": "3.8.12"
  }
 },
 "nbformat": 4,
 "nbformat_minor": 5
}
